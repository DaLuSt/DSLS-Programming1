{
 "cells": [
  {
   "cell_type": "markdown",
   "metadata": {},
   "source": [
    "# Week 02 Assignment glucose level data\n",
    "\n",
    "Welcome to week two of this course programming 1. You will learn about time related data wrangling with pandas and you will learn to visualize with bokeh. This week will be focussed around missing data. Concretely, you will preprocess the glucose json file using interpolation to impute in order to conduct visual analysis. Learning outcomes:\n",
    "\n",
    "- load a json dataset \n",
    "- typecast the Pandas DataFrame to appropiate data types\n",
    "- inspect the dataset for quality and metadata information\n",
    "- add a column with interpolated data in Pandas DataFrame\n",
    "- perform visual analysis\n",
    "\n",
    "The assignment consists of 6 parts:\n",
    "\n",
    "- [part 1: load the data](#0)\n",
    "     - [Exercise 1.1](#ex-11)\n",
    "- [part 2: prepare for inspection](#1)\n",
    "     - [Exercise 2.1](#ex-21)\n",
    "- [part 3: inspect the data](#2)\n",
    "     - [Exercise 3.1](#ex-31)\n",
    "- [part 4: interpolate the data](#3)\n",
    "     - [Exercise 4.1](#ex-41)\n",
    "- [part 5: visualize the data](#4)\n",
    "     - [Exercise 5.1](#ex-51)\n",
    "- [part 6: Challenge](#5)\n",
    "     - [Exercise 6.1](#ex-61)\n",
    "\n",
    "Part 1 and 5 are mandatory, part 6 is optional (bonus)\n",
    "To pass the assingnment you need to a score of 60%. \n"
   ]
  },
  {
   "cell_type": "markdown",
   "metadata": {},
   "source": [
    "<a name='0'></a>\n",
    "## Part 1: Load the data\n",
    "\n",
    "Instructions: Load the json datafile `glucose.json` into a pandas dataframe. Check your dataframe with a `.head()` to compare with the expected outcome\n",
    "\n",
    "<details>    \n",
    "<summary>\n",
    "    <font size=\"3\" color=\"darkgreen\"><b>Hints</b></font>\n",
    "</summary>\n",
    "<ul><li>json.load() method reads a file, pd.read_json converts it to a Pandas DataFrame</li>\n",
    "    <li>when loading into a Pandas DataFrame use records orientation </li>\n",
    "</ul>\n",
    "</details>\n",
    "\n",
    "<a name='ex-11'></a>\n",
    "### Code your solution"
   ]
  },
  {
   "cell_type": "code",
   "execution_count": null,
   "metadata": {},
   "outputs": [],
   "source": [
    "\n",
    "\n"
   ]
  },
  {
   "cell_type": "code",
   "execution_count": 913,
   "metadata": {},
   "outputs": [
    {
     "data": {
      "text/html": [
       "\n",
       "    <div class=\"bk-root\">\n",
       "        <a href=\"https://bokeh.org\" target=\"_blank\" class=\"bk-logo bk-logo-small bk-logo-notebook\"></a>\n",
       "        <span id=\"397888\">Loading BokehJS ...</span>\n",
       "    </div>"
      ]
     },
     "metadata": {},
     "output_type": "display_data"
    },
    {
     "data": {
      "application/javascript": "\n(function(root) {\n  function now() {\n    return new Date();\n  }\n\n  var force = true;\n\n  if (typeof root._bokeh_onload_callbacks === \"undefined\" || force === true) {\n    root._bokeh_onload_callbacks = [];\n    root._bokeh_is_loading = undefined;\n  }\n\n  var JS_MIME_TYPE = 'application/javascript';\n  var HTML_MIME_TYPE = 'text/html';\n  var EXEC_MIME_TYPE = 'application/vnd.bokehjs_exec.v0+json';\n  var CLASS_NAME = 'output_bokeh rendered_html';\n\n  /**\n   * Render data to the DOM node\n   */\n  function render(props, node) {\n    var script = document.createElement(\"script\");\n    node.appendChild(script);\n  }\n\n  /**\n   * Handle when an output is cleared or removed\n   */\n  function handleClearOutput(event, handle) {\n    var cell = handle.cell;\n\n    var id = cell.output_area._bokeh_element_id;\n    var server_id = cell.output_area._bokeh_server_id;\n    // Clean up Bokeh references\n    if (id != null && id in Bokeh.index) {\n      Bokeh.index[id].model.document.clear();\n      delete Bokeh.index[id];\n    }\n\n    if (server_id !== undefined) {\n      // Clean up Bokeh references\n      var cmd = \"from bokeh.io.state import curstate; print(curstate().uuid_to_server['\" + server_id + \"'].get_sessions()[0].document.roots[0]._id)\";\n      cell.notebook.kernel.execute(cmd, {\n        iopub: {\n          output: function(msg) {\n            var id = msg.content.text.trim();\n            if (id in Bokeh.index) {\n              Bokeh.index[id].model.document.clear();\n              delete Bokeh.index[id];\n            }\n          }\n        }\n      });\n      // Destroy server and session\n      var cmd = \"import bokeh.io.notebook as ion; ion.destroy_server('\" + server_id + \"')\";\n      cell.notebook.kernel.execute(cmd);\n    }\n  }\n\n  /**\n   * Handle when a new output is added\n   */\n  function handleAddOutput(event, handle) {\n    var output_area = handle.output_area;\n    var output = handle.output;\n\n    // limit handleAddOutput to display_data with EXEC_MIME_TYPE content only\n    if ((output.output_type != \"display_data\") || (!Object.prototype.hasOwnProperty.call(output.data, EXEC_MIME_TYPE))) {\n      return\n    }\n\n    var toinsert = output_area.element.find(\".\" + CLASS_NAME.split(' ')[0]);\n\n    if (output.metadata[EXEC_MIME_TYPE][\"id\"] !== undefined) {\n      toinsert[toinsert.length - 1].firstChild.textContent = output.data[JS_MIME_TYPE];\n      // store reference to embed id on output_area\n      output_area._bokeh_element_id = output.metadata[EXEC_MIME_TYPE][\"id\"];\n    }\n    if (output.metadata[EXEC_MIME_TYPE][\"server_id\"] !== undefined) {\n      var bk_div = document.createElement(\"div\");\n      bk_div.innerHTML = output.data[HTML_MIME_TYPE];\n      var script_attrs = bk_div.children[0].attributes;\n      for (var i = 0; i < script_attrs.length; i++) {\n        toinsert[toinsert.length - 1].firstChild.setAttribute(script_attrs[i].name, script_attrs[i].value);\n        toinsert[toinsert.length - 1].firstChild.textContent = bk_div.children[0].textContent\n      }\n      // store reference to server id on output_area\n      output_area._bokeh_server_id = output.metadata[EXEC_MIME_TYPE][\"server_id\"];\n    }\n  }\n\n  function register_renderer(events, OutputArea) {\n\n    function append_mime(data, metadata, element) {\n      // create a DOM node to render to\n      var toinsert = this.create_output_subarea(\n        metadata,\n        CLASS_NAME,\n        EXEC_MIME_TYPE\n      );\n      this.keyboard_manager.register_events(toinsert);\n      // Render to node\n      var props = {data: data, metadata: metadata[EXEC_MIME_TYPE]};\n      render(props, toinsert[toinsert.length - 1]);\n      element.append(toinsert);\n      return toinsert\n    }\n\n    /* Handle when an output is cleared or removed */\n    events.on('clear_output.CodeCell', handleClearOutput);\n    events.on('delete.Cell', handleClearOutput);\n\n    /* Handle when a new output is added */\n    events.on('output_added.OutputArea', handleAddOutput);\n\n    /**\n     * Register the mime type and append_mime function with output_area\n     */\n    OutputArea.prototype.register_mime_type(EXEC_MIME_TYPE, append_mime, {\n      /* Is output safe? */\n      safe: true,\n      /* Index of renderer in `output_area.display_order` */\n      index: 0\n    });\n  }\n\n  // register the mime type if in Jupyter Notebook environment and previously unregistered\n  if (root.Jupyter !== undefined) {\n    var events = require('base/js/events');\n    var OutputArea = require('notebook/js/outputarea').OutputArea;\n\n    if (OutputArea.prototype.mime_types().indexOf(EXEC_MIME_TYPE) == -1) {\n      register_renderer(events, OutputArea);\n    }\n  }\n\n  \n  if (typeof (root._bokeh_timeout) === \"undefined\" || force === true) {\n    root._bokeh_timeout = Date.now() + 5000;\n    root._bokeh_failed_load = false;\n  }\n\n  var NB_LOAD_WARNING = {'data': {'text/html':\n     \"<div style='background-color: #fdd'>\\n\"+\n     \"<p>\\n\"+\n     \"BokehJS does not appear to have successfully loaded. If loading BokehJS from CDN, this \\n\"+\n     \"may be due to a slow or bad network connection. Possible fixes:\\n\"+\n     \"</p>\\n\"+\n     \"<ul>\\n\"+\n     \"<li>re-rerun `output_notebook()` to attempt to load from CDN again, or</li>\\n\"+\n     \"<li>use INLINE resources instead, as so:</li>\\n\"+\n     \"</ul>\\n\"+\n     \"<code>\\n\"+\n     \"from bokeh.resources import INLINE\\n\"+\n     \"output_notebook(resources=INLINE)\\n\"+\n     \"</code>\\n\"+\n     \"</div>\"}};\n\n  function display_loaded() {\n    var el = document.getElementById(\"397888\");\n    if (el != null) {\n      el.textContent = \"BokehJS is loading...\";\n    }\n    if (root.Bokeh !== undefined) {\n      if (el != null) {\n        el.textContent = \"BokehJS \" + root.Bokeh.version + \" successfully loaded.\";\n      }\n    } else if (Date.now() < root._bokeh_timeout) {\n      setTimeout(display_loaded, 100)\n    }\n  }\n\n\n  function run_callbacks() {\n    try {\n      root._bokeh_onload_callbacks.forEach(function(callback) {\n        if (callback != null)\n          callback();\n      });\n    } finally {\n      delete root._bokeh_onload_callbacks\n    }\n    console.debug(\"Bokeh: all callbacks have finished\");\n  }\n\n  function load_libs(css_urls, js_urls, callback) {\n    if (css_urls == null) css_urls = [];\n    if (js_urls == null) js_urls = [];\n\n    root._bokeh_onload_callbacks.push(callback);\n    if (root._bokeh_is_loading > 0) {\n      console.debug(\"Bokeh: BokehJS is being loaded, scheduling callback at\", now());\n      return null;\n    }\n    if (js_urls == null || js_urls.length === 0) {\n      run_callbacks();\n      return null;\n    }\n    console.debug(\"Bokeh: BokehJS not loaded, scheduling load and callback at\", now());\n    root._bokeh_is_loading = css_urls.length + js_urls.length;\n\n    function on_load() {\n      root._bokeh_is_loading--;\n      if (root._bokeh_is_loading === 0) {\n        console.debug(\"Bokeh: all BokehJS libraries/stylesheets loaded\");\n        run_callbacks()\n      }\n    }\n\n    function on_error(url) {\n      console.error(\"failed to load \" + url);\n    }\n\n    for (let i = 0; i < css_urls.length; i++) {\n      const url = css_urls[i];\n      const element = document.createElement(\"link\");\n      element.onload = on_load;\n      element.onerror = on_error.bind(null, url);\n      element.rel = \"stylesheet\";\n      element.type = \"text/css\";\n      element.href = url;\n      console.debug(\"Bokeh: injecting link tag for BokehJS stylesheet: \", url);\n      document.body.appendChild(element);\n    }\n\n    const hashes = {\"https://cdn.bokeh.org/bokeh/release/bokeh-2.3.2.min.js\": \"XypntL49z55iwGVUW4qsEu83zKL3XEcz0MjuGOQ9SlaaQ68X/g+k1FcioZi7oQAc\", \"https://cdn.bokeh.org/bokeh/release/bokeh-tables-2.3.2.min.js\": \"bEsM86IHGDTLCS0Zod8a8WM6Y4+lafAL/eSiyQcuPzinmWNgNO2/olUF0Z2Dkn5i\", \"https://cdn.bokeh.org/bokeh/release/bokeh-widgets-2.3.2.min.js\": \"TX0gSQTdXTTeScqxj6PVQxTiRW8DOoGVwinyi1D3kxv7wuxQ02XkOxv0xwiypcAH\"};\n\n    for (let i = 0; i < js_urls.length; i++) {\n      const url = js_urls[i];\n      const element = document.createElement('script');\n      element.onload = on_load;\n      element.onerror = on_error.bind(null, url);\n      element.async = false;\n      element.src = url;\n      if (url in hashes) {\n        element.crossOrigin = \"anonymous\";\n        element.integrity = \"sha384-\" + hashes[url];\n      }\n      console.debug(\"Bokeh: injecting script tag for BokehJS library: \", url);\n      document.head.appendChild(element);\n    }\n  };\n\n  function inject_raw_css(css) {\n    const element = document.createElement(\"style\");\n    element.appendChild(document.createTextNode(css));\n    document.body.appendChild(element);\n  }\n\n  \n  var js_urls = [\"https://cdn.bokeh.org/bokeh/release/bokeh-2.3.2.min.js\", \"https://cdn.bokeh.org/bokeh/release/bokeh-widgets-2.3.2.min.js\", \"https://cdn.bokeh.org/bokeh/release/bokeh-tables-2.3.2.min.js\"];\n  var css_urls = [];\n  \n\n  var inline_js = [\n    function(Bokeh) {\n      Bokeh.set_log_level(\"info\");\n    },\n    function(Bokeh) {\n    \n    \n    }\n  ];\n\n  function run_inline_js() {\n    \n    if (root.Bokeh !== undefined || force === true) {\n      \n    for (var i = 0; i < inline_js.length; i++) {\n      inline_js[i].call(root, root.Bokeh);\n    }\n    if (force === true) {\n        display_loaded();\n      }} else if (Date.now() < root._bokeh_timeout) {\n      setTimeout(run_inline_js, 100);\n    } else if (!root._bokeh_failed_load) {\n      console.log(\"Bokeh: BokehJS failed to load within specified timeout.\");\n      root._bokeh_failed_load = true;\n    } else if (force !== true) {\n      var cell = $(document.getElementById(\"397888\")).parents('.cell').data().cell;\n      cell.output_area.append_execute_result(NB_LOAD_WARNING)\n    }\n\n  }\n\n  if (root._bokeh_is_loading === 0) {\n    console.debug(\"Bokeh: BokehJS loaded, going straight to plotting\");\n    run_inline_js();\n  } else {\n    load_libs(css_urls, js_urls, function() {\n      console.debug(\"Bokeh: BokehJS plotting callback run at\", now());\n      run_inline_js();\n    });\n  }\n}(window));",
      "application/vnd.bokehjs_load.v0+json": ""
     },
     "metadata": {},
     "output_type": "display_data"
    },
    {
     "data": {
      "text/html": [
       "<div>\n",
       "<style scoped>\n",
       "    .dataframe tbody tr th:only-of-type {\n",
       "        vertical-align: middle;\n",
       "    }\n",
       "\n",
       "    .dataframe tbody tr th {\n",
       "        vertical-align: top;\n",
       "    }\n",
       "\n",
       "    .dataframe thead th {\n",
       "        text-align: right;\n",
       "    }\n",
       "</style>\n",
       "<table border=\"1\" class=\"dataframe\">\n",
       "  <thead>\n",
       "    <tr style=\"text-align: right;\">\n",
       "      <th></th>\n",
       "      <th>ID</th>\n",
       "      <th>time</th>\n",
       "      <th>recordtype</th>\n",
       "      <th>glucose</th>\n",
       "    </tr>\n",
       "  </thead>\n",
       "  <tbody>\n",
       "    <tr>\n",
       "      <th>0</th>\n",
       "      <td>2845.0</td>\n",
       "      <td>2019-04-25 00:08</td>\n",
       "      <td>1</td>\n",
       "      <td>109</td>\n",
       "    </tr>\n",
       "    <tr>\n",
       "      <th>1</th>\n",
       "      <td>2850.0</td>\n",
       "      <td>2019-04-25 00:50</td>\n",
       "      <td>1</td>\n",
       "      <td></td>\n",
       "    </tr>\n",
       "    <tr>\n",
       "      <th>2</th>\n",
       "      <td>2877.0</td>\n",
       "      <td>2019-04-25 07:02</td>\n",
       "      <td>1</td>\n",
       "      <td>123</td>\n",
       "    </tr>\n",
       "    <tr>\n",
       "      <th>3</th>\n",
       "      <td>2881.0</td>\n",
       "      <td>2019-04-25 07:34</td>\n",
       "      <td>1</td>\n",
       "      <td>158</td>\n",
       "    </tr>\n",
       "    <tr>\n",
       "      <th>4</th>\n",
       "      <td>2886.0</td>\n",
       "      <td>2019-04-25 08:19</td>\n",
       "      <td>1</td>\n",
       "      <td></td>\n",
       "    </tr>\n",
       "  </tbody>\n",
       "</table>\n",
       "</div>"
      ],
      "text/plain": [
       "       ID              time  recordtype glucose\n",
       "0  2845.0  2019-04-25 00:08           1     109\n",
       "1  2850.0  2019-04-25 00:50           1        \n",
       "2  2877.0  2019-04-25 07:02           1     123\n",
       "3  2881.0  2019-04-25 07:34           1     158\n",
       "4  2886.0  2019-04-25 08:19           1        "
      ]
     },
     "execution_count": 913,
     "metadata": {},
     "output_type": "execute_result"
    }
   ],
   "source": [
    "import pandas as pd\n",
    "import numpy as np \n",
    "import json as json\n",
    "import pandas as pd\n",
    "import matplotlib.pyplot as plt\n",
    "import seaborn as sns\n",
    "from bokeh.plotting import figure, show, output_file\n",
    "from bokeh.layouts import gridplot, row\n",
    "from bokeh.models import CheckboxGroup, CustomJS, Panel, Tabs, Label\n",
    "from bokeh.io import output_notebook\n",
    "output_notebook()\n",
    "\n",
    "\n",
    "         \n",
    "with open(\"../data/glucose.json\", \"r\") as filename:\n",
    "    json_file = json.load(filename)\n",
    "    df = pd.read_json(json_file)\n",
    "    \n",
    "df.head()\n",
    "\n"
   ]
  },
  {
   "cell_type": "markdown",
   "metadata": {},
   "source": [
    "#### Expected outcome: "
   ]
  },
  {
   "cell_type": "raw",
   "metadata": {},
   "source": [
    "       ID              time  recordtype glucose\n",
    "0  2845.0  2019-04-25 00:08           1     109\n",
    "1  2850.0  2019-04-25 00:50           1        \n",
    "2  2877.0  2019-04-25 07:02           1     123\n",
    "3  2881.0  2019-04-25 07:34           1     158\n",
    "4  2886.0  2019-04-25 08:19           1        "
   ]
  },
  {
   "cell_type": "markdown",
   "metadata": {},
   "source": [
    "<a name='1'></a>\n",
    "## Part 2: Prepare the data\n",
    "\n",
    "Check the datatypes of your dataframe. The `glucose` field should be an integer, the `time` field should have a datetime format. If the datatypes are different you should typecast them to the right format.\n",
    "Make sure that your dataset is sorted by the time column\n",
    "\n",
    "\n",
    "<details>    \n",
    "<summary>\n",
    "    <font size=\"3\" color=\"darkgreen\"><b>Hints</b></font>\n",
    "</summary>\n",
    "<ul><li>use astype() method or pandas.DataFrame.to_datetime() for instance</li>\n",
    "    <li>make sure that the empty spaces are filled with NaN. Use errors='coerce'</li>\n",
    "    <li>set_index(), sort_index() and reset_index() are helpful to sort on index</li>\n",
    "</ul>\n",
    "</details>\n",
    "\n",
    "<a name='ex-21'></a>\n",
    "### Code your solution"
   ]
  },
  {
   "cell_type": "code",
   "execution_count": 914,
   "metadata": {},
   "outputs": [
    {
     "name": "stdout",
     "output_type": "stream",
     "text": [
      "<class 'pandas.core.frame.DataFrame'>\n",
      "RangeIndex: 136 entries, 0 to 135\n",
      "Data columns (total 4 columns):\n",
      " #   Column      Non-Null Count  Dtype         \n",
      "---  ------      --------------  -----         \n",
      " 0   ID          136 non-null    int64         \n",
      " 1   time        136 non-null    datetime64[ns]\n",
      " 2   recordtype  136 non-null    int64         \n",
      " 3   glucose     52 non-null     float64       \n",
      "dtypes: datetime64[ns](1), float64(1), int64(2)\n",
      "memory usage: 4.4 KB\n"
     ]
    }
   ],
   "source": [
    "# CODE YOUR SOLUTION HERE\n",
    "#print(df)\n",
    "\n",
    "# df.info()\n",
    "\n",
    "# glucose should be interger\n",
    "\n",
    "#df[\"ID\"] = pd.to_numeric(df[\"ID\"], errors= \"coerce\")\n",
    "df = df.astype({'ID': 'int64'})\n",
    "#df = df.astype({'glucose': 'int64'})\n",
    "df = df.astype({'time': 'datetime64[ns]'})\n",
    "df[\"glucose\"] = pd.to_numeric(df[\"glucose\"], errors= \"coerce\")\n",
    "# df[\"time\"] = pd.to_datetime(df[\"time\"], errors= \"coerce\")\n",
    "df.sort_values(\"time\")\n",
    "df.info()\n",
    "#print(df)\n",
    "\n",
    "# I have no idea what happend to my type 0 ID's\n",
    "# Recordtype 0 has weird IDs and all glucose values are missing / recordtype 1 has normal IDs, and glucose values, but still misses a couple of values. \n",
    "\n"
   ]
  },
  {
   "cell_type": "markdown",
   "metadata": {},
   "source": [
    "#### Expected outcome: "
   ]
  },
  {
   "cell_type": "raw",
   "metadata": {},
   "source": [
    "ID                     int64\n",
    "time          datetime64[ns]\n",
    "recordtype             int64\n",
    "glucose              float64\n",
    "dtype: object"
   ]
  },
  {
   "cell_type": "markdown",
   "metadata": {},
   "source": [
    "<a name='2'></a>\n",
    "## Part 3: Inspect the data\n",
    "\n",
    "Now that we prepared the data we are going to inspect the data to get more familiar with the data. You are required to do the following\n",
    "\n",
    "- inspect the percentage missing data for glucose\n",
    "- what is the relationship between recordtype and glucose value?\n",
    "- what is the relationship between ID and glucose value?\n",
    "\n",
    "Code the solutions to your answers. Create meaningful overviews or statistics\n",
    "\n",
    "<details>    \n",
    "<summary>\n",
    "    <font size=\"3\" color=\"darkgreen\"><b>Hints</b></font>\n",
    "</summary>\n",
    "<ul><li>In the week 01 assignment some functions were explained to inspect missing values</li>\n",
    "    <li>In the week 01 assignment some functions were explained to groupby value</li>\n",
    "</ul>\n",
    "</details>\n",
    "\n",
    "<a name='ex-31'></a>\n",
    "### Code your solution"
   ]
  },
  {
   "cell_type": "code",
   "execution_count": 915,
   "metadata": {},
   "outputs": [
    {
     "name": "stdout",
     "output_type": "stream",
     "text": [
      "table with missing values  ID             0.000000\n",
      "time           0.000000\n",
      "recordtype     0.000000\n",
      "glucose       61.764706\n",
      "dtype: float64\n",
      "Number of record types : 2\n",
      "Number of ID's : 55\n"
     ]
    }
   ],
   "source": [
    "#CODE YOUR SOLUTION HERE\n",
    "\n",
    "#print(df)\n",
    "\n",
    "# percebtage missing from the df\n",
    "percent_missing = df.isnull().sum() * 100 / len(df)\n",
    "# missing_value_df = pd.DataFrame({'column_name': df.columns,\n",
    "#                                  'percent_missing': percent_missing})\n",
    "\n",
    "print(\"table with missing values \", percent_missing)\n",
    "\n",
    "# relation between glucose and record type\n",
    "data_one = len(pd.DataFrame(df.groupby('recordtype')))\n",
    "print(\"Number of record types :\", data_one)\n",
    "\n",
    "selected_columns_record =df[[\"recordtype\", \"glucose\"]]\n",
    "#print(selected_columns_record)\n",
    "\n",
    "\n",
    "# relation between glucose and ID\n",
    "data_two = len(pd.DataFrame(df.groupby('ID')))\n",
    "print(\"Number of ID's :\", data_two)\n",
    "\n",
    "selected_columns_ID =df[[\"ID\", \"glucose\"]]\n",
    "#print(selected_columns_ID)\n",
    "#selected_columns_ID.head()\n",
    "\n",
    "\n",
    "\n"
   ]
  },
  {
   "cell_type": "code",
   "execution_count": 916,
   "metadata": {},
   "outputs": [],
   "source": [
    "# # Delete missing values form the dataset\n",
    "# df = df.dropna()\n",
    "\n",
    "# Check result\n",
    "# #print(df)\n",
    "# df.head()"
   ]
  },
  {
   "cell_type": "markdown",
   "metadata": {},
   "source": [
    "#### Expected outcome percentage missing data\n",
    "0.6176470588235294"
   ]
  },
  {
   "cell_type": "markdown",
   "metadata": {},
   "source": [
    "<a name='3'></a>\n",
    "## Part 4: Interpolate the data\n",
    "\n",
    "A lot of data is missing. Use interpolation to fill the missing values. Create a new column with the interpolated data. Take an argumentative approach. Select an interpolation method that suits the nature of the data and explain your choice. Mind you that the expected outcome of the interpolation values can differ from the example below\n",
    "\n",
    "<details>    \n",
    "<summary>\n",
    "    <font size=\"3\" color=\"darkgreen\"><b>Hints</b></font>\n",
    "</summary>\n",
    "<ul><li>use Pandas.DataFrame.interpolate() method</li>\n",
    "</ul>\n",
    "</details>\n",
    "\n",
    "<a name='ex-41'></a>\n",
    "### Code your solution"
   ]
  },
  {
   "cell_type": "code",
   "execution_count": 917,
   "metadata": {},
   "outputs": [
    {
     "name": "stdout",
     "output_type": "stream",
     "text": [
      "                      ID                time  recordtype  glucose  \\\n",
      "0                   2845 2019-04-25 00:08:00           1    109.0   \n",
      "1                   2850 2019-04-25 00:50:00           1      NaN   \n",
      "2                   2877 2019-04-25 07:02:00           1    123.0   \n",
      "3                   2881 2019-04-25 07:34:00           1    158.0   \n",
      "4                   2886 2019-04-25 08:19:00           1      NaN   \n",
      "..                   ...                 ...         ...      ...   \n",
      "131 -9223372036854775808 2019-04-25 22:47:00           0      NaN   \n",
      "132 -9223372036854775808 2019-04-25 23:02:00           0      NaN   \n",
      "133 -9223372036854775808 2019-04-25 23:18:00           0      NaN   \n",
      "134 -9223372036854775808 2019-04-25 23:33:00           0      NaN   \n",
      "135 -9223372036854775808 2019-04-25 23:48:00           0      NaN   \n",
      "\n",
      "     interpolation  \n",
      "0            109.0  \n",
      "1            116.0  \n",
      "2            123.0  \n",
      "3            158.0  \n",
      "4            148.5  \n",
      "..             ...  \n",
      "131          111.0  \n",
      "132          111.0  \n",
      "133          111.0  \n",
      "134          111.0  \n",
      "135          111.0  \n",
      "\n",
      "[136 rows x 5 columns]\n"
     ]
    }
   ],
   "source": [
    "#Save interpolate to a variable\n",
    "interpolate = df.glucose.interpolate(method=\"linear\")\n",
    "#print(interpolate)\n",
    " \n",
    "\n",
    "# Add the list to the datframe\n",
    "df[\"interpolation\"] = interpolate\n",
    "\n",
    "# Check result\n",
    "print(df)\n",
    "\n",
    "\n"
   ]
  },
  {
   "cell_type": "markdown",
   "metadata": {},
   "source": [
    "#### Example outcome"
   ]
  },
  {
   "cell_type": "raw",
   "metadata": {},
   "source": [
    "                 time                   ID  recordtype  glucose  interpolated\n",
    "0 2019-04-25 00:08:00                 2845           1    109.0    109.000000\n",
    "1 2019-04-25 00:14:00 -9223372036854775808           0      NaN    109.466667\n",
    "2 2019-04-25 00:29:00 -9223372036854775808           0      NaN    109.933333\n",
    "3 2019-04-25 00:44:00 -9223372036854775808           0      NaN    110.400000\n",
    "4 2019-04-25 00:50:00                 2850           1      NaN    110.866667"
   ]
  },
  {
   "cell_type": "markdown",
   "metadata": {},
   "source": [
    "<a name='4'></a>\n",
    "## Part 5: Plot the data\n",
    "\n",
    "Create a plot with the original data and the interpolated data. Consider what the best representation is for visualisation of actual values and modelled/imputed values. An example of such a plot is given below. This plot however is not considered the best practice. \n",
    "\n",
    "<details>    \n",
    "<summary>\n",
    "    <font size=\"3\" color=\"darkgreen\"><b>Hints</b></font>\n",
    "</summary>\n",
    "<ul><li>figure(x_axis_type='datetime') automatically makes nices labels of the datetime data</li>\n",
    "</ul>\n",
    "</details>\n",
    "\n",
    "<a name='ex-51'></a>\n",
    "### Code your solution"
   ]
  },
  {
   "cell_type": "code",
   "execution_count": 918,
   "metadata": {},
   "outputs": [
    {
     "data": {
      "text/html": [
       "\n",
       "    <div class=\"bk-root\">\n",
       "        <a href=\"https://bokeh.org\" target=\"_blank\" class=\"bk-logo bk-logo-small bk-logo-notebook\"></a>\n",
       "        <span id=\"397889\">Loading BokehJS ...</span>\n",
       "    </div>"
      ]
     },
     "metadata": {},
     "output_type": "display_data"
    },
    {
     "data": {
      "application/javascript": "\n(function(root) {\n  function now() {\n    return new Date();\n  }\n\n  var force = true;\n\n  if (typeof root._bokeh_onload_callbacks === \"undefined\" || force === true) {\n    root._bokeh_onload_callbacks = [];\n    root._bokeh_is_loading = undefined;\n  }\n\n  var JS_MIME_TYPE = 'application/javascript';\n  var HTML_MIME_TYPE = 'text/html';\n  var EXEC_MIME_TYPE = 'application/vnd.bokehjs_exec.v0+json';\n  var CLASS_NAME = 'output_bokeh rendered_html';\n\n  /**\n   * Render data to the DOM node\n   */\n  function render(props, node) {\n    var script = document.createElement(\"script\");\n    node.appendChild(script);\n  }\n\n  /**\n   * Handle when an output is cleared or removed\n   */\n  function handleClearOutput(event, handle) {\n    var cell = handle.cell;\n\n    var id = cell.output_area._bokeh_element_id;\n    var server_id = cell.output_area._bokeh_server_id;\n    // Clean up Bokeh references\n    if (id != null && id in Bokeh.index) {\n      Bokeh.index[id].model.document.clear();\n      delete Bokeh.index[id];\n    }\n\n    if (server_id !== undefined) {\n      // Clean up Bokeh references\n      var cmd = \"from bokeh.io.state import curstate; print(curstate().uuid_to_server['\" + server_id + \"'].get_sessions()[0].document.roots[0]._id)\";\n      cell.notebook.kernel.execute(cmd, {\n        iopub: {\n          output: function(msg) {\n            var id = msg.content.text.trim();\n            if (id in Bokeh.index) {\n              Bokeh.index[id].model.document.clear();\n              delete Bokeh.index[id];\n            }\n          }\n        }\n      });\n      // Destroy server and session\n      var cmd = \"import bokeh.io.notebook as ion; ion.destroy_server('\" + server_id + \"')\";\n      cell.notebook.kernel.execute(cmd);\n    }\n  }\n\n  /**\n   * Handle when a new output is added\n   */\n  function handleAddOutput(event, handle) {\n    var output_area = handle.output_area;\n    var output = handle.output;\n\n    // limit handleAddOutput to display_data with EXEC_MIME_TYPE content only\n    if ((output.output_type != \"display_data\") || (!Object.prototype.hasOwnProperty.call(output.data, EXEC_MIME_TYPE))) {\n      return\n    }\n\n    var toinsert = output_area.element.find(\".\" + CLASS_NAME.split(' ')[0]);\n\n    if (output.metadata[EXEC_MIME_TYPE][\"id\"] !== undefined) {\n      toinsert[toinsert.length - 1].firstChild.textContent = output.data[JS_MIME_TYPE];\n      // store reference to embed id on output_area\n      output_area._bokeh_element_id = output.metadata[EXEC_MIME_TYPE][\"id\"];\n    }\n    if (output.metadata[EXEC_MIME_TYPE][\"server_id\"] !== undefined) {\n      var bk_div = document.createElement(\"div\");\n      bk_div.innerHTML = output.data[HTML_MIME_TYPE];\n      var script_attrs = bk_div.children[0].attributes;\n      for (var i = 0; i < script_attrs.length; i++) {\n        toinsert[toinsert.length - 1].firstChild.setAttribute(script_attrs[i].name, script_attrs[i].value);\n        toinsert[toinsert.length - 1].firstChild.textContent = bk_div.children[0].textContent\n      }\n      // store reference to server id on output_area\n      output_area._bokeh_server_id = output.metadata[EXEC_MIME_TYPE][\"server_id\"];\n    }\n  }\n\n  function register_renderer(events, OutputArea) {\n\n    function append_mime(data, metadata, element) {\n      // create a DOM node to render to\n      var toinsert = this.create_output_subarea(\n        metadata,\n        CLASS_NAME,\n        EXEC_MIME_TYPE\n      );\n      this.keyboard_manager.register_events(toinsert);\n      // Render to node\n      var props = {data: data, metadata: metadata[EXEC_MIME_TYPE]};\n      render(props, toinsert[toinsert.length - 1]);\n      element.append(toinsert);\n      return toinsert\n    }\n\n    /* Handle when an output is cleared or removed */\n    events.on('clear_output.CodeCell', handleClearOutput);\n    events.on('delete.Cell', handleClearOutput);\n\n    /* Handle when a new output is added */\n    events.on('output_added.OutputArea', handleAddOutput);\n\n    /**\n     * Register the mime type and append_mime function with output_area\n     */\n    OutputArea.prototype.register_mime_type(EXEC_MIME_TYPE, append_mime, {\n      /* Is output safe? */\n      safe: true,\n      /* Index of renderer in `output_area.display_order` */\n      index: 0\n    });\n  }\n\n  // register the mime type if in Jupyter Notebook environment and previously unregistered\n  if (root.Jupyter !== undefined) {\n    var events = require('base/js/events');\n    var OutputArea = require('notebook/js/outputarea').OutputArea;\n\n    if (OutputArea.prototype.mime_types().indexOf(EXEC_MIME_TYPE) == -1) {\n      register_renderer(events, OutputArea);\n    }\n  }\n\n  \n  if (typeof (root._bokeh_timeout) === \"undefined\" || force === true) {\n    root._bokeh_timeout = Date.now() + 5000;\n    root._bokeh_failed_load = false;\n  }\n\n  var NB_LOAD_WARNING = {'data': {'text/html':\n     \"<div style='background-color: #fdd'>\\n\"+\n     \"<p>\\n\"+\n     \"BokehJS does not appear to have successfully loaded. If loading BokehJS from CDN, this \\n\"+\n     \"may be due to a slow or bad network connection. Possible fixes:\\n\"+\n     \"</p>\\n\"+\n     \"<ul>\\n\"+\n     \"<li>re-rerun `output_notebook()` to attempt to load from CDN again, or</li>\\n\"+\n     \"<li>use INLINE resources instead, as so:</li>\\n\"+\n     \"</ul>\\n\"+\n     \"<code>\\n\"+\n     \"from bokeh.resources import INLINE\\n\"+\n     \"output_notebook(resources=INLINE)\\n\"+\n     \"</code>\\n\"+\n     \"</div>\"}};\n\n  function display_loaded() {\n    var el = document.getElementById(\"397889\");\n    if (el != null) {\n      el.textContent = \"BokehJS is loading...\";\n    }\n    if (root.Bokeh !== undefined) {\n      if (el != null) {\n        el.textContent = \"BokehJS \" + root.Bokeh.version + \" successfully loaded.\";\n      }\n    } else if (Date.now() < root._bokeh_timeout) {\n      setTimeout(display_loaded, 100)\n    }\n  }\n\n\n  function run_callbacks() {\n    try {\n      root._bokeh_onload_callbacks.forEach(function(callback) {\n        if (callback != null)\n          callback();\n      });\n    } finally {\n      delete root._bokeh_onload_callbacks\n    }\n    console.debug(\"Bokeh: all callbacks have finished\");\n  }\n\n  function load_libs(css_urls, js_urls, callback) {\n    if (css_urls == null) css_urls = [];\n    if (js_urls == null) js_urls = [];\n\n    root._bokeh_onload_callbacks.push(callback);\n    if (root._bokeh_is_loading > 0) {\n      console.debug(\"Bokeh: BokehJS is being loaded, scheduling callback at\", now());\n      return null;\n    }\n    if (js_urls == null || js_urls.length === 0) {\n      run_callbacks();\n      return null;\n    }\n    console.debug(\"Bokeh: BokehJS not loaded, scheduling load and callback at\", now());\n    root._bokeh_is_loading = css_urls.length + js_urls.length;\n\n    function on_load() {\n      root._bokeh_is_loading--;\n      if (root._bokeh_is_loading === 0) {\n        console.debug(\"Bokeh: all BokehJS libraries/stylesheets loaded\");\n        run_callbacks()\n      }\n    }\n\n    function on_error(url) {\n      console.error(\"failed to load \" + url);\n    }\n\n    for (let i = 0; i < css_urls.length; i++) {\n      const url = css_urls[i];\n      const element = document.createElement(\"link\");\n      element.onload = on_load;\n      element.onerror = on_error.bind(null, url);\n      element.rel = \"stylesheet\";\n      element.type = \"text/css\";\n      element.href = url;\n      console.debug(\"Bokeh: injecting link tag for BokehJS stylesheet: \", url);\n      document.body.appendChild(element);\n    }\n\n    const hashes = {\"https://cdn.bokeh.org/bokeh/release/bokeh-2.3.2.min.js\": \"XypntL49z55iwGVUW4qsEu83zKL3XEcz0MjuGOQ9SlaaQ68X/g+k1FcioZi7oQAc\", \"https://cdn.bokeh.org/bokeh/release/bokeh-tables-2.3.2.min.js\": \"bEsM86IHGDTLCS0Zod8a8WM6Y4+lafAL/eSiyQcuPzinmWNgNO2/olUF0Z2Dkn5i\", \"https://cdn.bokeh.org/bokeh/release/bokeh-widgets-2.3.2.min.js\": \"TX0gSQTdXTTeScqxj6PVQxTiRW8DOoGVwinyi1D3kxv7wuxQ02XkOxv0xwiypcAH\"};\n\n    for (let i = 0; i < js_urls.length; i++) {\n      const url = js_urls[i];\n      const element = document.createElement('script');\n      element.onload = on_load;\n      element.onerror = on_error.bind(null, url);\n      element.async = false;\n      element.src = url;\n      if (url in hashes) {\n        element.crossOrigin = \"anonymous\";\n        element.integrity = \"sha384-\" + hashes[url];\n      }\n      console.debug(\"Bokeh: injecting script tag for BokehJS library: \", url);\n      document.head.appendChild(element);\n    }\n  };\n\n  function inject_raw_css(css) {\n    const element = document.createElement(\"style\");\n    element.appendChild(document.createTextNode(css));\n    document.body.appendChild(element);\n  }\n\n  \n  var js_urls = [\"https://cdn.bokeh.org/bokeh/release/bokeh-2.3.2.min.js\", \"https://cdn.bokeh.org/bokeh/release/bokeh-widgets-2.3.2.min.js\", \"https://cdn.bokeh.org/bokeh/release/bokeh-tables-2.3.2.min.js\"];\n  var css_urls = [];\n  \n\n  var inline_js = [\n    function(Bokeh) {\n      Bokeh.set_log_level(\"info\");\n    },\n    function(Bokeh) {\n    \n    \n    }\n  ];\n\n  function run_inline_js() {\n    \n    if (root.Bokeh !== undefined || force === true) {\n      \n    for (var i = 0; i < inline_js.length; i++) {\n      inline_js[i].call(root, root.Bokeh);\n    }\n    if (force === true) {\n        display_loaded();\n      }} else if (Date.now() < root._bokeh_timeout) {\n      setTimeout(run_inline_js, 100);\n    } else if (!root._bokeh_failed_load) {\n      console.log(\"Bokeh: BokehJS failed to load within specified timeout.\");\n      root._bokeh_failed_load = true;\n    } else if (force !== true) {\n      var cell = $(document.getElementById(\"397889\")).parents('.cell').data().cell;\n      cell.output_area.append_execute_result(NB_LOAD_WARNING)\n    }\n\n  }\n\n  if (root._bokeh_is_loading === 0) {\n    console.debug(\"Bokeh: BokehJS loaded, going straight to plotting\");\n    run_inline_js();\n  } else {\n    load_libs(css_urls, js_urls, function() {\n      console.debug(\"Bokeh: BokehJS plotting callback run at\", now());\n      run_inline_js();\n    });\n  }\n}(window));",
      "application/vnd.bokehjs_load.v0+json": ""
     },
     "metadata": {},
     "output_type": "display_data"
    }
   ],
   "source": [
    "from bokeh.io import output_notebook\n",
    "from bokeh.plotting import figure, show\n",
    "from bokeh.layouts import gridplot\n",
    "from bokeh.io import output_notebook\n",
    "from bokeh.plotting import ColumnDataSource\n",
    "from datetime import datetime as dt\n",
    "output_notebook()\n"
   ]
  },
  {
   "cell_type": "code",
   "execution_count": 919,
   "metadata": {},
   "outputs": [
    {
     "name": "stdout",
     "output_type": "stream",
     "text": [
      "<class 'pandas.core.frame.DataFrame'>\n",
      "RangeIndex: 136 entries, 0 to 135\n",
      "Data columns (total 5 columns):\n",
      " #   Column         Non-Null Count  Dtype         \n",
      "---  ------         --------------  -----         \n",
      " 0   ID             136 non-null    int64         \n",
      " 1   time           136 non-null    datetime64[ns]\n",
      " 2   recordtype     136 non-null    int64         \n",
      " 3   glucose        52 non-null     float64       \n",
      " 4   interpolation  136 non-null    float64       \n",
      "dtypes: datetime64[ns](1), float64(2), int64(2)\n",
      "memory usage: 5.4 KB\n"
     ]
    },
    {
     "data": {
      "text/plain": [
       "<bound method NDFrame.head of                       ID                time  recordtype  glucose  \\\n",
       "0                   2845 2019-04-25 00:08:00           1    109.0   \n",
       "1                   2850 2019-04-25 00:50:00           1      NaN   \n",
       "2                   2877 2019-04-25 07:02:00           1    123.0   \n",
       "3                   2881 2019-04-25 07:34:00           1    158.0   \n",
       "4                   2886 2019-04-25 08:19:00           1      NaN   \n",
       "..                   ...                 ...         ...      ...   \n",
       "131 -9223372036854775808 2019-04-25 22:47:00           0      NaN   \n",
       "132 -9223372036854775808 2019-04-25 23:02:00           0      NaN   \n",
       "133 -9223372036854775808 2019-04-25 23:18:00           0      NaN   \n",
       "134 -9223372036854775808 2019-04-25 23:33:00           0      NaN   \n",
       "135 -9223372036854775808 2019-04-25 23:48:00           0      NaN   \n",
       "\n",
       "     interpolation  \n",
       "0            109.0  \n",
       "1            116.0  \n",
       "2            123.0  \n",
       "3            158.0  \n",
       "4            148.5  \n",
       "..             ...  \n",
       "131          111.0  \n",
       "132          111.0  \n",
       "133          111.0  \n",
       "134          111.0  \n",
       "135          111.0  \n",
       "\n",
       "[136 rows x 5 columns]>"
      ]
     },
     "execution_count": 919,
     "metadata": {},
     "output_type": "execute_result"
    }
   ],
   "source": [
    "df.info()\n",
    "df.head\n",
    "#print(df.interpolated)"
   ]
  },
  {
   "cell_type": "code",
   "execution_count": 922,
   "metadata": {},
   "outputs": [
    {
     "data": {
      "text/html": [
       "\n",
       "\n",
       "\n",
       "\n",
       "\n",
       "\n",
       "  <div class=\"bk-root\" id=\"37038031-87a5-4eef-a6f6-9d39a1f0566b\" data-root-id=\"419217\"></div>\n"
      ]
     },
     "metadata": {},
     "output_type": "display_data"
    },
    {
     "data": {
      "application/javascript": "(function(root) {\n  function embed_document(root) {\n    \n  var docs_json = {\"22342f18-aa22-4c5d-af54-dd7665856259\":{\"defs\":[],\"roots\":{\"references\":[{\"attributes\":{\"children\":[{\"id\":\"419091\"},{\"id\":\"419154\"}]},\"id\":\"419217\",\"type\":\"Row\"},{\"attributes\":{\"base\":60,\"mantissas\":[1,2,5,10,15,20,30],\"max_interval\":1800000.0,\"min_interval\":1000.0,\"num_minor_ticks\":0},\"id\":\"419140\",\"type\":\"AdaptiveTicker\"},{\"attributes\":{\"data\":{\"x\":{\"__ndarray__\":\"AABwIB2ldkIAAKyHH6V2QgAA5NA0pXZCAACkpTaldkIAANI4OaV2QgAA3n1CpXZCAAAcGkqldkIAAPa0TaV2QgAAHk9PpXZCAACa4U+ldkIAADIcUKV2QgAA2CpQpXZCAAD6y1CldkIAAIQyUaV2QgAAHG1RpXZCAADWSFKldkIAAHxXUqV2QgAAYK9SpXZCAABS21KldkIAAOoVU6V2QgAAglBTpXZCAADUZlSldkIAAJwWVaV2QgAAcppVpXZCAAAeolaldkIAAE4XV6V2QgAAyqlXpXZCAAC81VeldkIAAPoeWKV2QgAARjxYpXZCAACSWVildkIAAISFWKV2QgAAHMBYpXZCAAAO7FildkIAALT6WKV2QgAAmFJZpXZCAADkb1mldkIAAG7WWaV2QgAABhFapXZCAACeS1qldkIAADaGWqV2QgAAKLJapXZCAABm+1qldkIAAP41W6V2QgAA7n9dpXZCAABOal6ldkIAADLCXqV2QgAARo9fpXZCAAAQdGWldkIAAIQrZ6V2QgAAfFBopXZCAAAuUWqldkIAAEIea6V2QgAAMmhtpXZCAABUeB2ldkIAAA5UHqV2QgAAyC8fpXZCAACCCyCldkIAADznIKV2QgAA9sIhpXZCAACwniKldkIAAGp6I6V2QgAAJFYkpXZCAADeMSWldkIAAJgNJqV2QgAAUukmpXZCAAAMxSeldkIAAMagKKV2QgAAgHwppXZCAAA6WCqldkIAAPQzK6V2QgAArg8spXZCAABo6yyldkIAACLHLaV2QgAA3KIupXZCAACWfi+ldkIAAFBaMKV2QgAACjYxpXZCAADEETKldkIAAH7tMqV2QgAAOMkzpXZCAACYszSldkIAAFKPNaV2QgAADGs2pXZCAADGRjeldkIAAIAiOKV2QgAA4Aw5pXZCAACa6DmldkIAAFTEOqV2QgAADqA7pXZCAADIezyldkIAAIJXPaV2QgAAPDM+pXZCAAD2Dj+ldkIAALDqP6V2QgAAasZApXZCAAAkokGldkIAAN59QqV2QgAAmFlDpXZCAABSNUSldkIAAAwRRaV2QgAAxuxFpXZCAACAyEaldkIAADqkR6V2QgAA9H9IpXZCAACuW0mldkIAAGg3SqV2QgAAUKZNpXZCAAAKgk6ldkIAAGaoU6V2QgAAxpJUpXZCAADaX1WldkIAAGjdWKV2QgAAIrlZpXZCAAA2hlqldkIAAJZwW6V2QgAAxANepXZCAAB+316ldkIAADi7X6V2QgAA8pZgpXZCAACscmGldkIAAGZOYqV2QgAAICpjpXZCAADaBWSldkIAADrwZKV2QgAA9MtlpXZCAACup2aldkIAAGiDZ6V2QgAAIl9opXZCAADcOmmldkIAAJYWaqV2QgAAquNqpXZCAABkv2uldkIAAMSpbKV2QgAAfoVtpXZCAAA4YW6ldkI=\",\"dtype\":\"float64\",\"order\":\"little\",\"shape\":[136]},\"y\":{\"__ndarray__\":\"AAAAAABAW0AAAAAAAAD4fwAAAAAAwF5AAAAAAADAY0AAAAAAAAD4fwAAAAAAYGFAAAAAAADgYkAAAAAAACBgQAAAAAAAIGRAAAAAAAAAZ0AAAAAAAEBmQAAAAAAAQGZAAAAAAABAXkAAAAAAAMBbQAAAAAAAgFpAAAAAAADAVkAAAAAAAEBYQAAAAAAAgFpAAAAAAACAWkAAAAAAAEBYQAAAAAAAgFVAAAAAAACAXEAAAAAAACBgQAAAAAAAgF1AAAAAAACAXUAAAAAAAMBcQAAAAAAAQFpAAAAAAABAW0AAAAAAAMBaQAAAAAAAwFtAAAAAAAAAXkAAAAAAACBhQAAAAAAAwGBAAAAAAAAgYEAAAAAAAEBfQAAAAAAAgF5AAAAAAAAAX0AAAAAAAMBfQAAAAAAAQF5AAAAAAADAXkAAAAAAAIBeQAAAAAAAAF9AAAAAAACAX0AAAAAAAABgQAAAAAAAgFtAAAAAAAAAYEAAAAAAAABdQAAAAAAAgFpAAAAAAADgYkAAAAAAAIBfQAAAAAAAQGBAAAAAAACAXEAAAAAAAIBaQAAAAAAAwFtAAAAAAAAA+H8AAAAAAAD4fwAAAAAAAPh/AAAAAAAA+H8AAAAAAAD4fwAAAAAAAPh/AAAAAAAA+H8AAAAAAAD4fwAAAAAAAPh/AAAAAAAA+H8AAAAAAAD4fwAAAAAAAPh/AAAAAAAA+H8AAAAAAAD4fwAAAAAAAPh/AAAAAAAA+H8AAAAAAAD4fwAAAAAAAPh/AAAAAAAA+H8AAAAAAAD4fwAAAAAAAPh/AAAAAAAA+H8AAAAAAAD4fwAAAAAAAPh/AAAAAAAA+H8AAAAAAAD4fwAAAAAAAPh/AAAAAAAA+H8AAAAAAAD4fwAAAAAAAPh/AAAAAAAA+H8AAAAAAAD4fwAAAAAAAPh/AAAAAAAA+H8AAAAAAAD4fwAAAAAAAPh/AAAAAAAA+H8AAAAAAAD4fwAAAAAAAPh/AAAAAAAA+H8AAAAAAAD4fwAAAAAAAPh/AAAAAAAA+H8AAAAAAAD4fwAAAAAAAPh/AAAAAAAA+H8AAAAAAAD4fwAAAAAAAPh/AAAAAAAA+H8AAAAAAAD4fwAAAAAAAPh/AAAAAAAA+H8AAAAAAAD4fwAAAAAAAPh/AAAAAAAA+H8AAAAAAAD4fwAAAAAAAPh/AAAAAAAA+H8AAAAAAAD4fwAAAAAAAPh/AAAAAAAA+H8AAAAAAAD4fwAAAAAAAPh/AAAAAAAA+H8AAAAAAAD4fwAAAAAAAPh/AAAAAAAA+H8AAAAAAAD4fwAAAAAAAPh/AAAAAAAA+H8AAAAAAAD4fwAAAAAAAPh/AAAAAAAA+H8AAAAAAAD4fwAAAAAAAPh/AAAAAAAA+H8AAAAAAAD4fwAAAAAAAPh/AAAAAAAA+H8AAAAAAAD4fwAAAAAAAPh/AAAAAAAA+H8=\",\"dtype\":\"float64\",\"order\":\"little\",\"shape\":[136]}},\"selected\":{\"id\":\"419137\"},\"selection_policy\":{\"id\":\"419138\"}},\"id\":\"419124\",\"type\":\"ColumnDataSource\"},{\"attributes\":{\"text\":\"Timeseries displaying linear interpolated glucose measurments over a 24h period\",\"x\":70,\"y\":70},\"id\":\"419216\",\"type\":\"Label\"},{\"attributes\":{\"days\":[1,2,3,4,5,6,7,8,9,10,11,12,13,14,15,16,17,18,19,20,21,22,23,24,25,26,27,28,29,30,31]},\"id\":\"419142\",\"type\":\"DaysTicker\"},{\"attributes\":{\"mantissas\":[1,2,5],\"max_interval\":500.0,\"num_minor_ticks\":0},\"id\":\"419139\",\"type\":\"AdaptiveTicker\"},{\"attributes\":{\"text\":\"Glucose distribution over time\"},\"id\":\"419092\",\"type\":\"Title\"},{\"attributes\":{},\"id\":\"419094\",\"type\":\"DataRange1d\"},{\"attributes\":{\"text\":\"Timeseries displaying glucose measurments over a 24h period\",\"x\":70,\"y\":70},\"id\":\"419153\",\"type\":\"Label\"},{\"attributes\":{},\"id\":\"419096\",\"type\":\"DataRange1d\"},{\"attributes\":{\"below\":[{\"id\":\"419102\"}],\"center\":[{\"id\":\"419105\"},{\"id\":\"419109\"},{\"id\":\"419151\"},{\"id\":\"419153\"}],\"left\":[{\"id\":\"419106\"}],\"renderers\":[{\"id\":\"419127\"}],\"title\":{\"id\":\"419092\"},\"toolbar\":{\"id\":\"419117\"},\"x_range\":{\"id\":\"419094\"},\"x_scale\":{\"id\":\"419098\"},\"y_range\":{\"id\":\"419096\"},\"y_scale\":{\"id\":\"419100\"}},\"id\":\"419091\",\"subtype\":\"Figure\",\"type\":\"Plot\"},{\"attributes\":{\"data_source\":{\"id\":\"419124\"},\"glyph\":{\"id\":\"419125\"},\"hover_glyph\":null,\"muted_glyph\":null,\"nonselection_glyph\":{\"id\":\"419126\"},\"view\":{\"id\":\"419128\"}},\"id\":\"419127\",\"type\":\"GlyphRenderer\"},{\"attributes\":{\"axis_label\":\"Glucose(mmol/l)\",\"formatter\":{\"id\":\"419196\"},\"major_label_policy\":{\"id\":\"419198\"},\"ticker\":{\"id\":\"419170\"}},\"id\":\"419169\",\"type\":\"LinearAxis\"},{\"attributes\":{},\"id\":\"419174\",\"type\":\"WheelZoomTool\"},{\"attributes\":{\"axis\":{\"id\":\"419169\"},\"dimension\":1,\"ticker\":null},\"id\":\"419172\",\"type\":\"Grid\"},{\"attributes\":{\"bottom_units\":\"screen\",\"fill_alpha\":0.5,\"fill_color\":\"lightgrey\",\"left_units\":\"screen\",\"level\":\"overlay\",\"line_alpha\":1.0,\"line_color\":\"black\",\"line_dash\":[4,4],\"line_width\":2,\"right_units\":\"screen\",\"syncable\":false,\"top_units\":\"screen\"},\"id\":\"419179\",\"type\":\"BoxAnnotation\"},{\"attributes\":{},\"id\":\"419170\",\"type\":\"BasicTicker\"},{\"attributes\":{\"active_multi\":null,\"tools\":[{\"id\":\"419173\"},{\"id\":\"419174\"},{\"id\":\"419175\"},{\"id\":\"419176\"},{\"id\":\"419177\"},{\"id\":\"419178\"}]},\"id\":\"419180\",\"type\":\"Toolbar\"},{\"attributes\":{},\"id\":\"419178\",\"type\":\"HelpTool\"},{\"attributes\":{},\"id\":\"419173\",\"type\":\"PanTool\"},{\"attributes\":{\"overlay\":{\"id\":\"419179\"}},\"id\":\"419175\",\"type\":\"BoxZoomTool\"},{\"attributes\":{},\"id\":\"419176\",\"type\":\"SaveTool\"},{\"attributes\":{},\"id\":\"419177\",\"type\":\"ResetTool\"},{\"attributes\":{\"base\":24,\"mantissas\":[1,2,4,6,8,12],\"max_interval\":43200000.0,\"min_interval\":3600000.0,\"num_minor_ticks\":0},\"id\":\"419204\",\"type\":\"AdaptiveTicker\"},{\"attributes\":{\"months\":[0,6]},\"id\":\"419149\",\"type\":\"MonthsTicker\"},{\"attributes\":{\"months\":[0,1,2,3,4,5,6,7,8,9,10,11]},\"id\":\"419209\",\"type\":\"MonthsTicker\"},{\"attributes\":{\"months\":[0,2,4,6,8,10]},\"id\":\"419210\",\"type\":\"MonthsTicker\"},{\"attributes\":{\"days\":[1,15]},\"id\":\"419145\",\"type\":\"DaysTicker\"},{\"attributes\":{\"days\":[1,4,7,10,13,16,19,22,25,28]},\"id\":\"419206\",\"type\":\"DaysTicker\"},{\"attributes\":{\"days\":[1,15]},\"id\":\"419208\",\"type\":\"DaysTicker\"},{\"attributes\":{\"line_alpha\":0.1,\"line_color\":\"#1f77b4\",\"line_width\":2,\"x\":{\"field\":\"x\"},\"y\":{\"field\":\"y\"}},\"id\":\"419189\",\"type\":\"Line\"},{\"attributes\":{\"base\":24,\"mantissas\":[1,2,4,6,8,12],\"max_interval\":43200000.0,\"min_interval\":3600000.0,\"num_minor_ticks\":0},\"id\":\"419141\",\"type\":\"AdaptiveTicker\"},{\"attributes\":{\"months\":[0,6]},\"id\":\"419212\",\"type\":\"MonthsTicker\"},{\"attributes\":{\"label\":{\"value\":\"Interpolated glucose.\"},\"renderers\":[{\"id\":\"419190\"}]},\"id\":\"419215\",\"type\":\"LegendItem\"},{\"attributes\":{\"days\":[1,8,15,22]},\"id\":\"419207\",\"type\":\"DaysTicker\"},{\"attributes\":{\"days\":[1,8,15,22]},\"id\":\"419144\",\"type\":\"DaysTicker\"},{\"attributes\":{},\"id\":\"419213\",\"type\":\"YearsTicker\"},{\"attributes\":{\"line_color\":\"#1f77b4\",\"line_width\":2,\"x\":{\"field\":\"x\"},\"y\":{\"field\":\"y\"}},\"id\":\"419188\",\"type\":\"Line\"},{\"attributes\":{\"source\":{\"id\":\"419187\"}},\"id\":\"419191\",\"type\":\"CDSView\"},{\"attributes\":{},\"id\":\"419150\",\"type\":\"YearsTicker\"},{\"attributes\":{\"months\":[0,4,8]},\"id\":\"419211\",\"type\":\"MonthsTicker\"},{\"attributes\":{\"items\":[{\"id\":\"419215\"}]},\"id\":\"419214\",\"type\":\"Legend\"},{\"attributes\":{\"months\":[0,1,2,3,4,5,6,7,8,9,10,11]},\"id\":\"419146\",\"type\":\"MonthsTicker\"},{\"attributes\":{},\"id\":\"419110\",\"type\":\"PanTool\"},{\"attributes\":{},\"id\":\"419138\",\"type\":\"UnionRenderers\"},{\"attributes\":{},\"id\":\"419115\",\"type\":\"HelpTool\"},{\"attributes\":{\"axis_label\":\"Time\",\"formatter\":{\"id\":\"419193\"},\"major_label_policy\":{\"id\":\"419195\"},\"ticker\":{\"id\":\"419166\"}},\"id\":\"419165\",\"type\":\"DatetimeAxis\"},{\"attributes\":{\"num_minor_ticks\":5,\"tickers\":[{\"id\":\"419202\"},{\"id\":\"419203\"},{\"id\":\"419204\"},{\"id\":\"419205\"},{\"id\":\"419206\"},{\"id\":\"419207\"},{\"id\":\"419208\"},{\"id\":\"419209\"},{\"id\":\"419210\"},{\"id\":\"419211\"},{\"id\":\"419212\"},{\"id\":\"419213\"}]},\"id\":\"419166\",\"type\":\"DatetimeTicker\"},{\"attributes\":{},\"id\":\"419193\",\"type\":\"DatetimeTickFormatter\"},{\"attributes\":{\"bottom_units\":\"screen\",\"fill_alpha\":0.5,\"fill_color\":\"lightgrey\",\"left_units\":\"screen\",\"level\":\"overlay\",\"line_alpha\":1.0,\"line_color\":\"black\",\"line_dash\":[4,4],\"line_width\":2,\"right_units\":\"screen\",\"syncable\":false,\"top_units\":\"screen\"},\"id\":\"419116\",\"type\":\"BoxAnnotation\"},{\"attributes\":{\"data_source\":{\"id\":\"419187\"},\"glyph\":{\"id\":\"419188\"},\"hover_glyph\":null,\"muted_glyph\":null,\"nonselection_glyph\":{\"id\":\"419189\"},\"view\":{\"id\":\"419191\"}},\"id\":\"419190\",\"type\":\"GlyphRenderer\"},{\"attributes\":{},\"id\":\"419133\",\"type\":\"BasicTickFormatter\"},{\"attributes\":{},\"id\":\"419157\",\"type\":\"DataRange1d\"},{\"attributes\":{},\"id\":\"419195\",\"type\":\"AllLabels\"},{\"attributes\":{\"below\":[{\"id\":\"419165\"}],\"center\":[{\"id\":\"419168\"},{\"id\":\"419172\"},{\"id\":\"419214\"},{\"id\":\"419216\"}],\"left\":[{\"id\":\"419169\"}],\"renderers\":[{\"id\":\"419190\"}],\"title\":{\"id\":\"419155\"},\"toolbar\":{\"id\":\"419180\"},\"x_range\":{\"id\":\"419157\"},\"x_scale\":{\"id\":\"419161\"},\"y_range\":{\"id\":\"419159\"},\"y_scale\":{\"id\":\"419163\"}},\"id\":\"419154\",\"subtype\":\"Figure\",\"type\":\"Plot\"},{\"attributes\":{\"active_multi\":null,\"tools\":[{\"id\":\"419110\"},{\"id\":\"419111\"},{\"id\":\"419112\"},{\"id\":\"419113\"},{\"id\":\"419114\"},{\"id\":\"419115\"}]},\"id\":\"419117\",\"type\":\"Toolbar\"},{\"attributes\":{},\"id\":\"419196\",\"type\":\"BasicTickFormatter\"},{\"attributes\":{},\"id\":\"419163\",\"type\":\"LinearScale\"},{\"attributes\":{},\"id\":\"419114\",\"type\":\"ResetTool\"},{\"attributes\":{\"line_color\":\"#1f77b4\",\"line_width\":2,\"x\":{\"field\":\"x\"},\"y\":{\"field\":\"y\"}},\"id\":\"419125\",\"type\":\"Line\"},{\"attributes\":{\"axis\":{\"id\":\"419165\"},\"ticker\":null},\"id\":\"419168\",\"type\":\"Grid\"},{\"attributes\":{},\"id\":\"419198\",\"type\":\"AllLabels\"},{\"attributes\":{\"axis\":{\"id\":\"419106\"},\"dimension\":1,\"ticker\":null},\"id\":\"419109\",\"type\":\"Grid\"},{\"attributes\":{\"data\":{\"x\":{\"__ndarray__\":\"AABwIB2ldkIAAKyHH6V2QgAA5NA0pXZCAACkpTaldkIAANI4OaV2QgAA3n1CpXZCAAAcGkqldkIAAPa0TaV2QgAAHk9PpXZCAACa4U+ldkIAADIcUKV2QgAA2CpQpXZCAAD6y1CldkIAAIQyUaV2QgAAHG1RpXZCAADWSFKldkIAAHxXUqV2QgAAYK9SpXZCAABS21KldkIAAOoVU6V2QgAAglBTpXZCAADUZlSldkIAAJwWVaV2QgAAcppVpXZCAAAeolaldkIAAE4XV6V2QgAAyqlXpXZCAAC81VeldkIAAPoeWKV2QgAARjxYpXZCAACSWVildkIAAISFWKV2QgAAHMBYpXZCAAAO7FildkIAALT6WKV2QgAAmFJZpXZCAADkb1mldkIAAG7WWaV2QgAABhFapXZCAACeS1qldkIAADaGWqV2QgAAKLJapXZCAABm+1qldkIAAP41W6V2QgAA7n9dpXZCAABOal6ldkIAADLCXqV2QgAARo9fpXZCAAAQdGWldkIAAIQrZ6V2QgAAfFBopXZCAAAuUWqldkIAAEIea6V2QgAAMmhtpXZCAABUeB2ldkIAAA5UHqV2QgAAyC8fpXZCAACCCyCldkIAADznIKV2QgAA9sIhpXZCAACwniKldkIAAGp6I6V2QgAAJFYkpXZCAADeMSWldkIAAJgNJqV2QgAAUukmpXZCAAAMxSeldkIAAMagKKV2QgAAgHwppXZCAAA6WCqldkIAAPQzK6V2QgAArg8spXZCAABo6yyldkIAACLHLaV2QgAA3KIupXZCAACWfi+ldkIAAFBaMKV2QgAACjYxpXZCAADEETKldkIAAH7tMqV2QgAAOMkzpXZCAACYszSldkIAAFKPNaV2QgAADGs2pXZCAADGRjeldkIAAIAiOKV2QgAA4Aw5pXZCAACa6DmldkIAAFTEOqV2QgAADqA7pXZCAADIezyldkIAAIJXPaV2QgAAPDM+pXZCAAD2Dj+ldkIAALDqP6V2QgAAasZApXZCAAAkokGldkIAAN59QqV2QgAAmFlDpXZCAABSNUSldkIAAAwRRaV2QgAAxuxFpXZCAACAyEaldkIAADqkR6V2QgAA9H9IpXZCAACuW0mldkIAAGg3SqV2QgAAUKZNpXZCAAAKgk6ldkIAAGaoU6V2QgAAxpJUpXZCAADaX1WldkIAAGjdWKV2QgAAIrlZpXZCAAA2hlqldkIAAJZwW6V2QgAAxANepXZCAAB+316ldkIAADi7X6V2QgAA8pZgpXZCAACscmGldkIAAGZOYqV2QgAAICpjpXZCAADaBWSldkIAADrwZKV2QgAA9MtlpXZCAACup2aldkIAAGiDZ6V2QgAAIl9opXZCAADcOmmldkIAAJYWaqV2QgAAquNqpXZCAABkv2uldkIAAMSpbKV2QgAAfoVtpXZCAAA4YW6ldkI=\",\"dtype\":\"float64\",\"order\":\"little\",\"shape\":[136]},\"y\":{\"__ndarray__\":\"AAAAAABAW0AAAAAAAABdQAAAAAAAwF5AAAAAAADAY0AAAAAAAJBiQAAAAAAAYGFAAAAAAADgYkAAAAAAACBgQAAAAAAAIGRAAAAAAAAAZ0AAAAAAAEBmQAAAAAAAQGZAAAAAAABAXkAAAAAAAMBbQAAAAAAAgFpAAAAAAADAVkAAAAAAAEBYQAAAAAAAgFpAAAAAAACAWkAAAAAAAEBYQAAAAAAAgFVAAAAAAACAXEAAAAAAACBgQAAAAAAAgF1AAAAAAACAXUAAAAAAAMBcQAAAAAAAQFpAAAAAAABAW0AAAAAAAMBaQAAAAAAAwFtAAAAAAAAAXkAAAAAAACBhQAAAAAAAwGBAAAAAAAAgYEAAAAAAAEBfQAAAAAAAgF5AAAAAAAAAX0AAAAAAAMBfQAAAAAAAQF5AAAAAAADAXkAAAAAAAIBeQAAAAAAAAF9AAAAAAACAX0AAAAAAAABgQAAAAAAAgFtAAAAAAAAAYEAAAAAAAABdQAAAAAAAgFpAAAAAAADgYkAAAAAAAIBfQAAAAAAAQGBAAAAAAACAXEAAAAAAAIBaQAAAAAAAwFtAAAAAAADAW0AAAAAAAMBbQAAAAAAAwFtAAAAAAADAW0AAAAAAAMBbQAAAAAAAwFtAAAAAAADAW0AAAAAAAMBbQAAAAAAAwFtAAAAAAADAW0AAAAAAAMBbQAAAAAAAwFtAAAAAAADAW0AAAAAAAMBbQAAAAAAAwFtAAAAAAADAW0AAAAAAAMBbQAAAAAAAwFtAAAAAAADAW0AAAAAAAMBbQAAAAAAAwFtAAAAAAADAW0AAAAAAAMBbQAAAAAAAwFtAAAAAAADAW0AAAAAAAMBbQAAAAAAAwFtAAAAAAADAW0AAAAAAAMBbQAAAAAAAwFtAAAAAAADAW0AAAAAAAMBbQAAAAAAAwFtAAAAAAADAW0AAAAAAAMBbQAAAAAAAwFtAAAAAAADAW0AAAAAAAMBbQAAAAAAAwFtAAAAAAADAW0AAAAAAAMBbQAAAAAAAwFtAAAAAAADAW0AAAAAAAMBbQAAAAAAAwFtAAAAAAADAW0AAAAAAAMBbQAAAAAAAwFtAAAAAAADAW0AAAAAAAMBbQAAAAAAAwFtAAAAAAADAW0AAAAAAAMBbQAAAAAAAwFtAAAAAAADAW0AAAAAAAMBbQAAAAAAAwFtAAAAAAADAW0AAAAAAAMBbQAAAAAAAwFtAAAAAAADAW0AAAAAAAMBbQAAAAAAAwFtAAAAAAADAW0AAAAAAAMBbQAAAAAAAwFtAAAAAAADAW0AAAAAAAMBbQAAAAAAAwFtAAAAAAADAW0AAAAAAAMBbQAAAAAAAwFtAAAAAAADAW0AAAAAAAMBbQAAAAAAAwFtAAAAAAADAW0AAAAAAAMBbQAAAAAAAwFtAAAAAAADAW0AAAAAAAMBbQAAAAAAAwFtAAAAAAADAW0A=\",\"dtype\":\"float64\",\"order\":\"little\",\"shape\":[136]}},\"selected\":{\"id\":\"419200\"},\"selection_policy\":{\"id\":\"419201\"}},\"id\":\"419187\",\"type\":\"ColumnDataSource\"},{\"attributes\":{\"axis_label\":\"Time\",\"formatter\":{\"id\":\"419130\"},\"major_label_policy\":{\"id\":\"419132\"},\"ticker\":{\"id\":\"419103\"}},\"id\":\"419102\",\"type\":\"DatetimeAxis\"},{\"attributes\":{},\"id\":\"419098\",\"type\":\"LinearScale\"},{\"attributes\":{},\"id\":\"419100\",\"type\":\"LinearScale\"},{\"attributes\":{},\"id\":\"419113\",\"type\":\"SaveTool\"},{\"attributes\":{},\"id\":\"419200\",\"type\":\"Selection\"},{\"attributes\":{\"axis_label\":\"Glucose(mmol/l)\",\"formatter\":{\"id\":\"419133\"},\"major_label_policy\":{\"id\":\"419135\"},\"ticker\":{\"id\":\"419107\"}},\"id\":\"419106\",\"type\":\"LinearAxis\"},{\"attributes\":{\"text\":\"interpolated glucose distribution over time\"},\"id\":\"419155\",\"type\":\"Title\"},{\"attributes\":{},\"id\":\"419111\",\"type\":\"WheelZoomTool\"},{\"attributes\":{\"axis\":{\"id\":\"419102\"},\"ticker\":null},\"id\":\"419105\",\"type\":\"Grid\"},{\"attributes\":{},\"id\":\"419161\",\"type\":\"LinearScale\"},{\"attributes\":{},\"id\":\"419107\",\"type\":\"BasicTicker\"},{\"attributes\":{\"num_minor_ticks\":5,\"tickers\":[{\"id\":\"419139\"},{\"id\":\"419140\"},{\"id\":\"419141\"},{\"id\":\"419142\"},{\"id\":\"419143\"},{\"id\":\"419144\"},{\"id\":\"419145\"},{\"id\":\"419146\"},{\"id\":\"419147\"},{\"id\":\"419148\"},{\"id\":\"419149\"},{\"id\":\"419150\"}]},\"id\":\"419103\",\"type\":\"DatetimeTicker\"},{\"attributes\":{},\"id\":\"419132\",\"type\":\"AllLabels\"},{\"attributes\":{\"items\":[{\"id\":\"419152\"}]},\"id\":\"419151\",\"type\":\"Legend\"},{\"attributes\":{},\"id\":\"419201\",\"type\":\"UnionRenderers\"},{\"attributes\":{\"line_alpha\":0.1,\"line_color\":\"#1f77b4\",\"line_width\":2,\"x\":{\"field\":\"x\"},\"y\":{\"field\":\"y\"}},\"id\":\"419126\",\"type\":\"Line\"},{\"attributes\":{},\"id\":\"419159\",\"type\":\"DataRange1d\"},{\"attributes\":{},\"id\":\"419137\",\"type\":\"Selection\"},{\"attributes\":{\"months\":[0,4,8]},\"id\":\"419148\",\"type\":\"MonthsTicker\"},{\"attributes\":{\"days\":[1,4,7,10,13,16,19,22,25,28]},\"id\":\"419143\",\"type\":\"DaysTicker\"},{\"attributes\":{},\"id\":\"419130\",\"type\":\"DatetimeTickFormatter\"},{\"attributes\":{\"overlay\":{\"id\":\"419116\"}},\"id\":\"419112\",\"type\":\"BoxZoomTool\"},{\"attributes\":{\"label\":{\"value\":\"Glucose.\"},\"renderers\":[{\"id\":\"419127\"}]},\"id\":\"419152\",\"type\":\"LegendItem\"},{\"attributes\":{\"months\":[0,2,4,6,8,10]},\"id\":\"419147\",\"type\":\"MonthsTicker\"},{\"attributes\":{\"source\":{\"id\":\"419124\"}},\"id\":\"419128\",\"type\":\"CDSView\"},{\"attributes\":{},\"id\":\"419135\",\"type\":\"AllLabels\"},{\"attributes\":{\"mantissas\":[1,2,5],\"max_interval\":500.0,\"num_minor_ticks\":0},\"id\":\"419202\",\"type\":\"AdaptiveTicker\"},{\"attributes\":{\"base\":60,\"mantissas\":[1,2,5,10,15,20,30],\"max_interval\":1800000.0,\"min_interval\":1000.0,\"num_minor_ticks\":0},\"id\":\"419203\",\"type\":\"AdaptiveTicker\"},{\"attributes\":{\"days\":[1,2,3,4,5,6,7,8,9,10,11,12,13,14,15,16,17,18,19,20,21,22,23,24,25,26,27,28,29,30,31]},\"id\":\"419205\",\"type\":\"DaysTicker\"}],\"root_ids\":[\"419217\"]},\"title\":\"Bokeh Application\",\"version\":\"2.3.2\"}};\n  var render_items = [{\"docid\":\"22342f18-aa22-4c5d-af54-dd7665856259\",\"root_ids\":[\"419217\"],\"roots\":{\"419217\":\"37038031-87a5-4eef-a6f6-9d39a1f0566b\"}}];\n  root.Bokeh.embed.embed_items_notebook(docs_json, render_items);\n\n  }\n  if (root.Bokeh !== undefined) {\n    embed_document(root);\n  } else {\n    var attempts = 0;\n    var timer = setInterval(function(root) {\n      if (root.Bokeh !== undefined) {\n        clearInterval(timer);\n        embed_document(root);\n      } else {\n        attempts++;\n        if (attempts > 100) {\n          clearInterval(timer);\n          console.log(\"Bokeh: ERROR: Unable to run BokehJS code because BokehJS library is missing\");\n        }\n      }\n    }, 10, root)\n  }\n})(window);",
      "application/vnd.bokehjs_exec.v0+json": ""
     },
     "metadata": {
      "application/vnd.bokehjs_exec.v0+json": {
       "id": "419217"
      }
     },
     "output_type": "display_data"
    }
   ],
   "source": [
    "# Splitting time and date column for easier plotting \n",
    "#df['new_date'],df['new_time'] = zip(*[(d.date(), d.time()) for d in df['time']])\n",
    "\n",
    "# Renovimg values to check for better distribution\n",
    "#df.drop(df.index[df['interpolation'] == 111], inplace = True)\n",
    "\n",
    "#normal glucopse\n",
    "x = df.time\n",
    "y = df.glucose\n",
    "y2 = df.interpolation\n",
    "\n",
    "p1 = figure(title=\"Glucose distribution over time\", x_axis_label='Time', y_axis_label='Glucose(mmol/l)', x_axis_type='datetime')\n",
    "p1.line(x, y, legend_label=\"Glucose.\", line_width=2)\n",
    "mytext = Label(x=70, y=70, text=\"Timeseries displaying glucose measurments over a 24h period\")\n",
    "p1.add_layout(mytext)\n",
    "# show(p1)\n",
    "\n",
    "# # interpolated glucose\n",
    "p2 = figure(title=\"interpolated glucose distribution over time\", x_axis_label='Time', y_axis_label='Glucose(mmol/l)', x_axis_type='datetime')\n",
    "p2.line(x, y2, legend_label=\"Interpolated glucose.\", line_width=2)\n",
    "mytext = Label(x=70, y=70, text=\"Timeseries displaying linear interpolated glucose measurments over a 24h period\")\n",
    "p2.add_layout(mytext)\n",
    "# show(p2)\n",
    "\n",
    "\n",
    "# Plot panel of glucose and interpolated\n",
    "show(row(p1, p2))\n",
    "\n",
    "\n",
    "\n"
   ]
  },
  {
   "cell_type": "markdown",
   "metadata": {},
   "source": [
    "<a name='6'></a>\n",
    "## Part 6: Challenge\n",
    "\n",
    "It might even be interesting to introduce a widget in which you can select different methods to interpolate.\n",
    "1. Can you improve the interpolation by choosing an other method?\n",
    "2. Can you add an rolling mean line? \n",
    "2. Can you improve the plot by making it interactive?\n",
    "\n",
    "<a name='ex-61'></a>\n",
    "### Code your solution"
   ]
  },
  {
   "cell_type": "code",
   "execution_count": 921,
   "metadata": {},
   "outputs": [
    {
     "data": {
      "text/html": [
       "\n",
       "\n",
       "\n",
       "\n",
       "\n",
       "\n",
       "  <div class=\"bk-root\" id=\"43c60275-238d-4fea-a355-5da7569035c1\" data-root-id=\"405052\"></div>\n"
      ]
     },
     "metadata": {},
     "output_type": "display_data"
    },
    {
     "data": {
      "application/javascript": "(function(root) {\n  function embed_document(root) {\n    \n  var docs_json = {\"3b43d3d9-8c4d-43fe-b8ba-02055302af66\":{\"defs\":[],\"roots\":{\"references\":[{\"attributes\":{\"tabs\":[{\"id\":\"404736\"},{\"id\":\"404799\"},{\"id\":\"404862\"},{\"id\":\"404925\"},{\"id\":\"404988\"},{\"id\":\"405051\"}]},\"id\":\"405052\",\"type\":\"Tabs\"},{\"attributes\":{},\"id\":\"404761\",\"type\":\"HelpTool\"},{\"attributes\":{\"source\":{\"id\":\"405022\"}},\"id\":\"405026\",\"type\":\"CDSView\"},{\"attributes\":{},\"id\":\"404784\",\"type\":\"UnionRenderers\"},{\"attributes\":{\"items\":[{\"id\":\"405050\"}]},\"id\":\"405049\",\"type\":\"Legend\"},{\"attributes\":{\"below\":[{\"id\":\"404811\"}],\"center\":[{\"id\":\"404814\"},{\"id\":\"404818\"},{\"id\":\"404860\"}],\"left\":[{\"id\":\"404815\"}],\"renderers\":[{\"id\":\"404836\"}],\"title\":{\"id\":\"404801\"},\"toolbar\":{\"id\":\"404826\"},\"x_range\":{\"id\":\"404803\"},\"x_scale\":{\"id\":\"404807\"},\"y_range\":{\"id\":\"404805\"},\"y_scale\":{\"id\":\"404809\"}},\"id\":\"404800\",\"subtype\":\"Figure\",\"type\":\"Plot\"},{\"attributes\":{\"line_alpha\":0.1,\"line_color\":\"#1f77b4\",\"line_width\":2,\"x\":{\"field\":\"x\"},\"y\":{\"field\":\"y\"}},\"id\":\"404704\",\"type\":\"Line\"},{\"attributes\":{\"label\":{\"value\":\"Glucose.\"},\"renderers\":[{\"id\":\"404705\"}]},\"id\":\"404730\",\"type\":\"LegendItem\"},{\"attributes\":{},\"id\":\"404807\",\"type\":\"LinearScale\"},{\"attributes\":{\"label\":{\"value\":\"Interpolated glucose.\"},\"renderers\":[{\"id\":\"405025\"}]},\"id\":\"405050\",\"type\":\"LegendItem\"},{\"attributes\":{\"line_color\":\"#1f77b4\",\"line_width\":2,\"x\":{\"field\":\"x\"},\"y\":{\"field\":\"y\"}},\"id\":\"404703\",\"type\":\"Line\"},{\"attributes\":{\"data\":{\"x\":{\"__ndarray__\":\"AABwIB2ldkIAAKyHH6V2QgAA5NA0pXZCAACkpTaldkIAANI4OaV2QgAA3n1CpXZCAAAcGkqldkIAAPa0TaV2QgAAHk9PpXZCAACa4U+ldkIAADIcUKV2QgAA2CpQpXZCAAD6y1CldkIAAIQyUaV2QgAAHG1RpXZCAADWSFKldkIAAHxXUqV2QgAAYK9SpXZCAABS21KldkIAAOoVU6V2QgAAglBTpXZCAADUZlSldkIAAJwWVaV2QgAAcppVpXZCAAAeolaldkIAAE4XV6V2QgAAyqlXpXZCAAC81VeldkIAAPoeWKV2QgAARjxYpXZCAACSWVildkIAAISFWKV2QgAAHMBYpXZCAAAO7FildkIAALT6WKV2QgAAmFJZpXZCAADkb1mldkIAAG7WWaV2QgAABhFapXZCAACeS1qldkIAADaGWqV2QgAAKLJapXZCAABm+1qldkIAAP41W6V2QgAA7n9dpXZCAABOal6ldkIAADLCXqV2QgAARo9fpXZCAAAQdGWldkIAAIQrZ6V2QgAAfFBopXZCAAAuUWqldkIAAEIea6V2QgAAMmhtpXZCAABUeB2ldkIAAA5UHqV2QgAAyC8fpXZCAACCCyCldkIAADznIKV2QgAA9sIhpXZCAACwniKldkIAAGp6I6V2QgAAJFYkpXZCAADeMSWldkIAAJgNJqV2QgAAUukmpXZCAAAMxSeldkIAAMagKKV2QgAAgHwppXZCAAA6WCqldkIAAPQzK6V2QgAArg8spXZCAABo6yyldkIAACLHLaV2QgAA3KIupXZCAACWfi+ldkIAAFBaMKV2QgAACjYxpXZCAADEETKldkIAAH7tMqV2QgAAOMkzpXZCAACYszSldkIAAFKPNaV2QgAADGs2pXZCAADGRjeldkIAAIAiOKV2QgAA4Aw5pXZCAACa6DmldkIAAFTEOqV2QgAADqA7pXZCAADIezyldkIAAIJXPaV2QgAAPDM+pXZCAAD2Dj+ldkIAALDqP6V2QgAAasZApXZCAAAkokGldkIAAN59QqV2QgAAmFlDpXZCAABSNUSldkIAAAwRRaV2QgAAxuxFpXZCAACAyEaldkIAADqkR6V2QgAA9H9IpXZCAACuW0mldkIAAGg3SqV2QgAAUKZNpXZCAAAKgk6ldkIAAGaoU6V2QgAAxpJUpXZCAADaX1WldkIAAGjdWKV2QgAAIrlZpXZCAAA2hlqldkIAAJZwW6V2QgAAxANepXZCAAB+316ldkIAADi7X6V2QgAA8pZgpXZCAACscmGldkIAAGZOYqV2QgAAICpjpXZCAADaBWSldkIAADrwZKV2QgAA9MtlpXZCAACup2aldkIAAGiDZ6V2QgAAIl9opXZCAADcOmmldkIAAJYWaqV2QgAAquNqpXZCAABkv2uldkIAAMSpbKV2QgAAfoVtpXZCAAA4YW6ldkI=\",\"dtype\":\"float64\",\"order\":\"little\",\"shape\":[136]},\"y\":{\"__ndarray__\":\"AAAAAABAW0AAAAAAAEBbQAAAAAAAwF5AAAAAAADAY0AAAAAAAMBjQAAAAAAAYGFAAAAAAADgYkAAAAAAACBgQAAAAAAAIGRAAAAAAAAAZ0AAAAAAAEBmQAAAAAAAQGZAAAAAAABAXkAAAAAAAMBbQAAAAAAAgFpAAAAAAADAVkAAAAAAAEBYQAAAAAAAgFpAAAAAAACAWkAAAAAAAEBYQAAAAAAAgFVAAAAAAACAXEAAAAAAACBgQAAAAAAAgF1AAAAAAACAXUAAAAAAAMBcQAAAAAAAQFpAAAAAAABAW0AAAAAAAMBaQAAAAAAAwFtAAAAAAAAAXkAAAAAAACBhQAAAAAAAwGBAAAAAAAAgYEAAAAAAAEBfQAAAAAAAgF5AAAAAAAAAX0AAAAAAAMBfQAAAAAAAQF5AAAAAAADAXkAAAAAAAIBeQAAAAAAAAF9AAAAAAACAX0AAAAAAAABgQAAAAAAAgFtAAAAAAAAAYEAAAAAAAABdQAAAAAAAgFpAAAAAAADgYkAAAAAAAIBfQAAAAAAAQGBAAAAAAACAXEAAAAAAAIBaQAAAAAAAwFtAAAAAAADAW0AAAAAAAMBbQAAAAAAAwFtAAAAAAADAW0AAAAAAAMBbQAAAAAAAwFtAAAAAAADAW0AAAAAAAMBbQAAAAAAAwFtAAAAAAADAW0AAAAAAAMBbQAAAAAAAwFtAAAAAAADAW0AAAAAAAMBbQAAAAAAAwFtAAAAAAADAW0AAAAAAAMBbQAAAAAAAwFtAAAAAAADAW0AAAAAAAMBbQAAAAAAAwFtAAAAAAADAW0AAAAAAAMBbQAAAAAAAwFtAAAAAAADAW0AAAAAAAMBbQAAAAAAAwFtAAAAAAADAW0AAAAAAAMBbQAAAAAAAwFtAAAAAAADAW0AAAAAAAMBbQAAAAAAAwFtAAAAAAADAW0AAAAAAAMBbQAAAAAAAwFtAAAAAAADAW0AAAAAAAMBbQAAAAAAAwFtAAAAAAADAW0AAAAAAAMBbQAAAAAAAwFtAAAAAAADAW0AAAAAAAMBbQAAAAAAAwFtAAAAAAADAW0AAAAAAAMBbQAAAAAAAwFtAAAAAAADAW0AAAAAAAMBbQAAAAAAAwFtAAAAAAADAW0AAAAAAAMBbQAAAAAAAwFtAAAAAAADAW0AAAAAAAMBbQAAAAAAAwFtAAAAAAADAW0AAAAAAAMBbQAAAAAAAwFtAAAAAAADAW0AAAAAAAMBbQAAAAAAAwFtAAAAAAADAW0AAAAAAAMBbQAAAAAAAwFtAAAAAAADAW0AAAAAAAMBbQAAAAAAAwFtAAAAAAADAW0AAAAAAAMBbQAAAAAAAwFtAAAAAAADAW0AAAAAAAMBbQAAAAAAAwFtAAAAAAADAW0AAAAAAAMBbQAAAAAAAwFtAAAAAAADAW0AAAAAAAMBbQAAAAAAAwFtAAAAAAADAW0A=\",\"dtype\":\"float64\",\"order\":\"little\",\"shape\":[136]}},\"selected\":{\"id\":\"404846\"},\"selection_policy\":{\"id\":\"404847\"}},\"id\":\"404833\",\"type\":\"ColumnDataSource\"},{\"attributes\":{\"source\":{\"id\":\"404702\"}},\"id\":\"404706\",\"type\":\"CDSView\"},{\"attributes\":{},\"id\":\"411530\",\"type\":\"Selection\"},{\"attributes\":{\"mantissas\":[1,2,5],\"max_interval\":500.0,\"num_minor_ticks\":0},\"id\":\"404911\",\"type\":\"AdaptiveTicker\"},{\"attributes\":{\"items\":[{\"id\":\"404730\"}]},\"id\":\"404729\",\"type\":\"Legend\"},{\"attributes\":{\"data_source\":{\"id\":\"404833\"},\"glyph\":{\"id\":\"404834\"},\"hover_glyph\":null,\"muted_glyph\":null,\"nonselection_glyph\":{\"id\":\"404835\"},\"view\":{\"id\":\"404837\"}},\"id\":\"404836\",\"type\":\"GlyphRenderer\"},{\"attributes\":{\"base\":60,\"mantissas\":[1,2,5,10,15,20,30],\"max_interval\":1800000.0,\"min_interval\":1000.0,\"num_minor_ticks\":0},\"id\":\"404912\",\"type\":\"AdaptiveTicker\"},{\"attributes\":{\"text\":\"Padded interpolated glucose distribution over Time\"},\"id\":\"404801\",\"type\":\"Title\"},{\"attributes\":{\"days\":[1,2,3,4,5,6,7,8,9,10,11,12,13,14,15,16,17,18,19,20,21,22,23,24,25,26,27,28,29,30,31]},\"id\":\"404914\",\"type\":\"DaysTicker\"},{\"attributes\":{\"label\":{\"value\":\"Interpolated glucose.\"},\"renderers\":[{\"id\":\"404773\"}]},\"id\":\"404798\",\"type\":\"LegendItem\"},{\"attributes\":{\"data\":{\"x\":{\"__ndarray__\":\"AABwIB2ldkIAAKyHH6V2QgAA5NA0pXZCAACkpTaldkIAANI4OaV2QgAA3n1CpXZCAAAcGkqldkIAAPa0TaV2QgAAHk9PpXZCAACa4U+ldkIAADIcUKV2QgAA2CpQpXZCAAD6y1CldkIAAIQyUaV2QgAAHG1RpXZCAADWSFKldkIAAHxXUqV2QgAAYK9SpXZCAABS21KldkIAAOoVU6V2QgAAglBTpXZCAADUZlSldkIAAJwWVaV2QgAAcppVpXZCAAAeolaldkIAAE4XV6V2QgAAyqlXpXZCAAC81VeldkIAAPoeWKV2QgAARjxYpXZCAACSWVildkIAAISFWKV2QgAAHMBYpXZCAAAO7FildkIAALT6WKV2QgAAmFJZpXZCAADkb1mldkIAAG7WWaV2QgAABhFapXZCAACeS1qldkIAADaGWqV2QgAAKLJapXZCAABm+1qldkIAAP41W6V2QgAA7n9dpXZCAABOal6ldkIAADLCXqV2QgAARo9fpXZCAAAQdGWldkIAAIQrZ6V2QgAAfFBopXZCAAAuUWqldkIAAEIea6V2QgAAMmhtpXZCAABUeB2ldkIAAA5UHqV2QgAAyC8fpXZCAACCCyCldkIAADznIKV2QgAA9sIhpXZCAACwniKldkIAAGp6I6V2QgAAJFYkpXZCAADeMSWldkIAAJgNJqV2QgAAUukmpXZCAAAMxSeldkIAAMagKKV2QgAAgHwppXZCAAA6WCqldkIAAPQzK6V2QgAArg8spXZCAABo6yyldkIAACLHLaV2QgAA3KIupXZCAACWfi+ldkIAAFBaMKV2QgAACjYxpXZCAADEETKldkIAAH7tMqV2QgAAOMkzpXZCAACYszSldkIAAFKPNaV2QgAADGs2pXZCAADGRjeldkIAAIAiOKV2QgAA4Aw5pXZCAACa6DmldkIAAFTEOqV2QgAADqA7pXZCAADIezyldkIAAIJXPaV2QgAAPDM+pXZCAAD2Dj+ldkIAALDqP6V2QgAAasZApXZCAAAkokGldkIAAN59QqV2QgAAmFlDpXZCAABSNUSldkIAAAwRRaV2QgAAxuxFpXZCAACAyEaldkIAADqkR6V2QgAA9H9IpXZCAACuW0mldkIAAGg3SqV2QgAAUKZNpXZCAAAKgk6ldkIAAGaoU6V2QgAAxpJUpXZCAADaX1WldkIAAGjdWKV2QgAAIrlZpXZCAAA2hlqldkIAAJZwW6V2QgAAxANepXZCAAB+316ldkIAADi7X6V2QgAA8pZgpXZCAACscmGldkIAAGZOYqV2QgAAICpjpXZCAADaBWSldkIAADrwZKV2QgAA9MtlpXZCAACup2aldkIAAGiDZ6V2QgAAIl9opXZCAADcOmmldkIAAJYWaqV2QgAAquNqpXZCAABkv2uldkIAAMSpbKV2QgAAfoVtpXZCAAA4YW6ldkI=\",\"dtype\":\"float64\",\"order\":\"little\",\"shape\":[136]},\"y\":{\"__ndarray__\":\"AAAAAABAW0CwT9kc1+BZQAAAAAAAwF5AAAAAAADAY0AMdRCS+/diQAAAAAAAYGFAAAAAAADgYkAAAAAAACBgQAAAAAAAIGRAAAAAAAAAZ0AAAAAAAEBmQAAAAAAAQGZAAAAAAABAXkAAAAAAAMBbQAAAAAAAgFpAAAAAAADAVkAAAAAAAEBYQAAAAAAAgFpAAAAAAACAWkAAAAAAAEBYQAAAAAAAgFVAAAAAAACAXEAAAAAAACBgQAAAAAAAgF1AAAAAAACAXUAAAAAAAMBcQAAAAAAAQFpAAAAAAABAW0AAAAAAAMBaQAAAAAAAwFtAAAAAAAAAXkAAAAAAACBhQAAAAAAAwGBAAAAAAAAgYEAAAAAAAEBfQAAAAAAAgF5AAAAAAAAAX0AAAAAAAMBfQAAAAAAAQF5AAAAAAADAXkAAAAAAAIBeQAAAAAAAAF9AAAAAAACAX0AAAAAAAABgQAAAAAAAgFtAAAAAAAAAYEAAAAAAAABdQAAAAAAAgFpAAAAAAADgYkAAAAAAAIBfQAAAAAAAQGBAAAAAAACAXEAAAAAAAIBaQAAAAAAAwFtAAAAAAAAA+H8AAAAAAAD4fwAAAAAAAPh/AAAAAAAA+H8AAAAAAAD4fwAAAAAAAPh/AAAAAAAA+H8AAAAAAAD4fwAAAAAAAPh/AAAAAAAA+H8AAAAAAAD4fwAAAAAAAPh/AAAAAAAA+H8AAAAAAAD4fwAAAAAAAPh/AAAAAAAA+H8AAAAAAAD4fwAAAAAAAPh/AAAAAAAA+H8AAAAAAAD4fwAAAAAAAPh/AAAAAAAA+H8AAAAAAAD4fwAAAAAAAPh/AAAAAAAA+H8AAAAAAAD4fwAAAAAAAPh/AAAAAAAA+H8AAAAAAAD4fwAAAAAAAPh/AAAAAAAA+H8AAAAAAAD4fwAAAAAAAPh/AAAAAAAA+H8AAAAAAAD4fwAAAAAAAPh/AAAAAAAA+H8AAAAAAAD4fwAAAAAAAPh/AAAAAAAA+H8AAAAAAAD4fwAAAAAAAPh/AAAAAAAA+H8AAAAAAAD4fwAAAAAAAPh/AAAAAAAA+H8AAAAAAAD4fwAAAAAAAPh/AAAAAAAA+H8AAAAAAAD4fwAAAAAAAPh/AAAAAAAA+H8AAAAAAAD4fwAAAAAAAPh/AAAAAAAA+H8AAAAAAAD4fwAAAAAAAPh/AAAAAAAA+H8AAAAAAAD4fwAAAAAAAPh/AAAAAAAA+H8AAAAAAAD4fwAAAAAAAPh/AAAAAAAA+H8AAAAAAAD4fwAAAAAAAPh/AAAAAAAA+H8AAAAAAAD4fwAAAAAAAPh/AAAAAAAA+H8AAAAAAAD4fwAAAAAAAPh/AAAAAAAA+H8AAAAAAAD4fwAAAAAAAPh/AAAAAAAA+H8AAAAAAAD4fwAAAAAAAPh/AAAAAAAA+H8AAAAAAAD4fwAAAAAAAPh/AAAAAAAA+H8=\",\"dtype\":\"float64\",\"order\":\"little\",\"shape\":[136]}},\"selected\":{\"id\":\"404909\"},\"selection_policy\":{\"id\":\"404910\"}},\"id\":\"404896\",\"type\":\"ColumnDataSource\"},{\"attributes\":{\"base\":24,\"mantissas\":[1,2,4,6,8,12],\"max_interval\":43200000.0,\"min_interval\":3600000.0,\"num_minor_ticks\":0},\"id\":\"404913\",\"type\":\"AdaptiveTicker\"},{\"attributes\":{},\"id\":\"404803\",\"type\":\"DataRange1d\"},{\"attributes\":{},\"id\":\"404805\",\"type\":\"DataRange1d\"},{\"attributes\":{\"months\":[0,1,2,3,4,5,6,7,8,9,10,11]},\"id\":\"404918\",\"type\":\"MonthsTicker\"},{\"attributes\":{\"axis_label\":\"Glucose(mmol/l)\",\"formatter\":{\"id\":\"404842\"},\"major_label_policy\":{\"id\":\"404844\"},\"ticker\":{\"id\":\"404816\"}},\"id\":\"404815\",\"type\":\"LinearAxis\"},{\"attributes\":{},\"id\":\"411531\",\"type\":\"UnionRenderers\"},{\"attributes\":{\"months\":[0,2,4,6,8,10]},\"id\":\"404919\",\"type\":\"MonthsTicker\"},{\"attributes\":{},\"id\":\"404809\",\"type\":\"LinearScale\"},{\"attributes\":{\"days\":[1,4,7,10,13,16,19,22,25,28]},\"id\":\"404915\",\"type\":\"DaysTicker\"},{\"attributes\":{\"axis_label\":\"Time(H)\",\"formatter\":{\"id\":\"404839\"},\"major_label_policy\":{\"id\":\"404841\"},\"ticker\":{\"id\":\"404812\"}},\"id\":\"404811\",\"type\":\"DatetimeAxis\"},{\"attributes\":{\"days\":[1,15]},\"id\":\"404723\",\"type\":\"DaysTicker\"},{\"attributes\":{\"mantissas\":[1,2,5],\"max_interval\":500.0,\"num_minor_ticks\":0},\"id\":\"404785\",\"type\":\"AdaptiveTicker\"},{\"attributes\":{\"num_minor_ticks\":5,\"tickers\":[{\"id\":\"404848\"},{\"id\":\"404849\"},{\"id\":\"404850\"},{\"id\":\"404851\"},{\"id\":\"404852\"},{\"id\":\"404853\"},{\"id\":\"404854\"},{\"id\":\"404855\"},{\"id\":\"404856\"},{\"id\":\"404857\"},{\"id\":\"404858\"},{\"id\":\"404859\"}]},\"id\":\"404812\",\"type\":\"DatetimeTicker\"},{\"attributes\":{\"base\":60,\"mantissas\":[1,2,5,10,15,20,30],\"max_interval\":1800000.0,\"min_interval\":1000.0,\"num_minor_ticks\":0},\"id\":\"404786\",\"type\":\"AdaptiveTicker\"},{\"attributes\":{\"days\":[1,15]},\"id\":\"404917\",\"type\":\"DaysTicker\"},{\"attributes\":{},\"id\":\"404672\",\"type\":\"DataRange1d\"},{\"attributes\":{\"axis\":{\"id\":\"404811\"},\"ticker\":null},\"id\":\"404814\",\"type\":\"Grid\"},{\"attributes\":{\"days\":[1,2,3,4,5,6,7,8,9,10,11,12,13,14,15,16,17,18,19,20,21,22,23,24,25,26,27,28,29,30,31]},\"id\":\"404788\",\"type\":\"DaysTicker\"},{\"attributes\":{\"axis\":{\"id\":\"404684\"},\"dimension\":1,\"ticker\":null},\"id\":\"404687\",\"type\":\"Grid\"},{\"attributes\":{},\"id\":\"404820\",\"type\":\"WheelZoomTool\"},{\"attributes\":{\"base\":24,\"mantissas\":[1,2,4,6,8,12],\"max_interval\":43200000.0,\"min_interval\":3600000.0,\"num_minor_ticks\":0},\"id\":\"404787\",\"type\":\"AdaptiveTicker\"},{\"attributes\":{},\"id\":\"404674\",\"type\":\"DataRange1d\"},{\"attributes\":{\"line_color\":\"#1f77b4\",\"line_width\":2,\"x\":{\"field\":\"x\"},\"y\":{\"field\":\"y\"}},\"id\":\"404834\",\"type\":\"Line\"},{\"attributes\":{\"bottom_units\":\"screen\",\"fill_alpha\":0.5,\"fill_color\":\"lightgrey\",\"left_units\":\"screen\",\"level\":\"overlay\",\"line_alpha\":1.0,\"line_color\":\"black\",\"line_dash\":[4,4],\"line_width\":2,\"right_units\":\"screen\",\"syncable\":false,\"top_units\":\"screen\"},\"id\":\"404762\",\"type\":\"BoxAnnotation\"},{\"attributes\":{\"months\":[0,1,2,3,4,5,6,7,8,9,10,11]},\"id\":\"404792\",\"type\":\"MonthsTicker\"},{\"attributes\":{\"months\":[0,4,8]},\"id\":\"404920\",\"type\":\"MonthsTicker\"},{\"attributes\":{},\"id\":\"404922\",\"type\":\"YearsTicker\"},{\"attributes\":{\"axis\":{\"id\":\"404815\"},\"dimension\":1,\"ticker\":null},\"id\":\"404818\",\"type\":\"Grid\"},{\"attributes\":{\"months\":[0,2,4,6,8,10]},\"id\":\"404793\",\"type\":\"MonthsTicker\"},{\"attributes\":{\"data\":{},\"selected\":{\"id\":\"411530\"},\"selection_policy\":{\"id\":\"411531\"}},\"id\":\"404731\",\"type\":\"ColumnDataSource\"},{\"attributes\":{},\"id\":\"404816\",\"type\":\"BasicTicker\"},{\"attributes\":{\"days\":[1,4,7,10,13,16,19,22,25,28]},\"id\":\"404789\",\"type\":\"DaysTicker\"},{\"attributes\":{\"days\":[1,15]},\"id\":\"404791\",\"type\":\"DaysTicker\"},{\"attributes\":{\"axis\":{\"id\":\"404752\"},\"dimension\":1,\"ticker\":null},\"id\":\"404755\",\"type\":\"Grid\"},{\"attributes\":{\"months\":[0,6]},\"id\":\"404795\",\"type\":\"MonthsTicker\"},{\"attributes\":{\"data\":{\"x\":{\"__ndarray__\":\"AABwIB2ldkIAAKyHH6V2QgAA5NA0pXZCAACkpTaldkIAANI4OaV2QgAA3n1CpXZCAAAcGkqldkIAAPa0TaV2QgAAHk9PpXZCAACa4U+ldkIAADIcUKV2QgAA2CpQpXZCAAD6y1CldkIAAIQyUaV2QgAAHG1RpXZCAADWSFKldkIAAHxXUqV2QgAAYK9SpXZCAABS21KldkIAAOoVU6V2QgAAglBTpXZCAADUZlSldkIAAJwWVaV2QgAAcppVpXZCAAAeolaldkIAAE4XV6V2QgAAyqlXpXZCAAC81VeldkIAAPoeWKV2QgAARjxYpXZCAACSWVildkIAAISFWKV2QgAAHMBYpXZCAAAO7FildkIAALT6WKV2QgAAmFJZpXZCAADkb1mldkIAAG7WWaV2QgAABhFapXZCAACeS1qldkIAADaGWqV2QgAAKLJapXZCAABm+1qldkIAAP41W6V2QgAA7n9dpXZCAABOal6ldkIAADLCXqV2QgAARo9fpXZCAAAQdGWldkIAAIQrZ6V2QgAAfFBopXZCAAAuUWqldkIAAEIea6V2QgAAMmhtpXZCAABUeB2ldkIAAA5UHqV2QgAAyC8fpXZCAACCCyCldkIAADznIKV2QgAA9sIhpXZCAACwniKldkIAAGp6I6V2QgAAJFYkpXZCAADeMSWldkIAAJgNJqV2QgAAUukmpXZCAAAMxSeldkIAAMagKKV2QgAAgHwppXZCAAA6WCqldkIAAPQzK6V2QgAArg8spXZCAABo6yyldkIAACLHLaV2QgAA3KIupXZCAACWfi+ldkIAAFBaMKV2QgAACjYxpXZCAADEETKldkIAAH7tMqV2QgAAOMkzpXZCAACYszSldkIAAFKPNaV2QgAADGs2pXZCAADGRjeldkIAAIAiOKV2QgAA4Aw5pXZCAACa6DmldkIAAFTEOqV2QgAADqA7pXZCAADIezyldkIAAIJXPaV2QgAAPDM+pXZCAAD2Dj+ldkIAALDqP6V2QgAAasZApXZCAAAkokGldkIAAN59QqV2QgAAmFlDpXZCAABSNUSldkIAAAwRRaV2QgAAxuxFpXZCAACAyEaldkIAADqkR6V2QgAA9H9IpXZCAACuW0mldkIAAGg3SqV2QgAAUKZNpXZCAAAKgk6ldkIAAGaoU6V2QgAAxpJUpXZCAADaX1WldkIAAGjdWKV2QgAAIrlZpXZCAAA2hlqldkIAAJZwW6V2QgAAxANepXZCAAB+316ldkIAADi7X6V2QgAA8pZgpXZCAACscmGldkIAAGZOYqV2QgAAICpjpXZCAADaBWSldkIAADrwZKV2QgAA9MtlpXZCAACup2aldkIAAGiDZ6V2QgAAIl9opXZCAADcOmmldkIAAJYWaqV2QgAAquNqpXZCAABkv2uldkIAAMSpbKV2QgAAfoVtpXZCAAA4YW6ldkI=\",\"dtype\":\"float64\",\"order\":\"little\",\"shape\":[136]},\"y\":{\"__ndarray__\":\"AAAAAABAW0AAAAAAAAD4fwAAAAAAwF5AAAAAAADAY0AAAAAAAAD4fwAAAAAAYGFAAAAAAADgYkAAAAAAACBgQAAAAAAAIGRAAAAAAAAAZ0AAAAAAAEBmQAAAAAAAQGZAAAAAAABAXkAAAAAAAMBbQAAAAAAAgFpAAAAAAADAVkAAAAAAAEBYQAAAAAAAgFpAAAAAAACAWkAAAAAAAEBYQAAAAAAAgFVAAAAAAACAXEAAAAAAACBgQAAAAAAAgF1AAAAAAACAXUAAAAAAAMBcQAAAAAAAQFpAAAAAAABAW0AAAAAAAMBaQAAAAAAAwFtAAAAAAAAAXkAAAAAAACBhQAAAAAAAwGBAAAAAAAAgYEAAAAAAAEBfQAAAAAAAgF5AAAAAAAAAX0AAAAAAAMBfQAAAAAAAQF5AAAAAAADAXkAAAAAAAIBeQAAAAAAAAF9AAAAAAACAX0AAAAAAAABgQAAAAAAAgFtAAAAAAAAAYEAAAAAAAABdQAAAAAAAgFpAAAAAAADgYkAAAAAAAIBfQAAAAAAAQGBAAAAAAACAXEAAAAAAAIBaQAAAAAAAwFtAAAAAAAAA+H8AAAAAAAD4fwAAAAAAAPh/AAAAAAAA+H8AAAAAAAD4fwAAAAAAAPh/AAAAAAAA+H8AAAAAAAD4fwAAAAAAAPh/AAAAAAAA+H8AAAAAAAD4fwAAAAAAAPh/AAAAAAAA+H8AAAAAAAD4fwAAAAAAAPh/AAAAAAAA+H8AAAAAAAD4fwAAAAAAAPh/AAAAAAAA+H8AAAAAAAD4fwAAAAAAAPh/AAAAAAAA+H8AAAAAAAD4fwAAAAAAAPh/AAAAAAAA+H8AAAAAAAD4fwAAAAAAAPh/AAAAAAAA+H8AAAAAAAD4fwAAAAAAAPh/AAAAAAAA+H8AAAAAAAD4fwAAAAAAAPh/AAAAAAAA+H8AAAAAAAD4fwAAAAAAAPh/AAAAAAAA+H8AAAAAAAD4fwAAAAAAAPh/AAAAAAAA+H8AAAAAAAD4fwAAAAAAAPh/AAAAAAAA+H8AAAAAAAD4fwAAAAAAAPh/AAAAAAAA+H8AAAAAAAD4fwAAAAAAAPh/AAAAAAAA+H8AAAAAAAD4fwAAAAAAAPh/AAAAAAAA+H8AAAAAAAD4fwAAAAAAAPh/AAAAAAAA+H8AAAAAAAD4fwAAAAAAAPh/AAAAAAAA+H8AAAAAAAD4fwAAAAAAAPh/AAAAAAAA+H8AAAAAAAD4fwAAAAAAAPh/AAAAAAAA+H8AAAAAAAD4fwAAAAAAAPh/AAAAAAAA+H8AAAAAAAD4fwAAAAAAAPh/AAAAAAAA+H8AAAAAAAD4fwAAAAAAAPh/AAAAAAAA+H8AAAAAAAD4fwAAAAAAAPh/AAAAAAAA+H8AAAAAAAD4fwAAAAAAAPh/AAAAAAAA+H8AAAAAAAD4fwAAAAAAAPh/AAAAAAAA+H8=\",\"dtype\":\"float64\",\"order\":\"little\",\"shape\":[136]}},\"selected\":{\"id\":\"404715\"},\"selection_policy\":{\"id\":\"404716\"}},\"id\":\"404702\",\"type\":\"ColumnDataSource\"},{\"attributes\":{},\"id\":\"404824\",\"type\":\"HelpTool\"},{\"attributes\":{\"days\":[1,8,15,22]},\"id\":\"404790\",\"type\":\"DaysTicker\"},{\"attributes\":{\"text\":\"Glucose distribution over time\"},\"id\":\"404670\",\"type\":\"Title\"},{\"attributes\":{},\"id\":\"404819\",\"type\":\"PanTool\"},{\"attributes\":{},\"id\":\"404796\",\"type\":\"YearsTicker\"},{\"attributes\":{\"data_source\":{\"id\":\"404702\"},\"glyph\":{\"id\":\"404703\"},\"hover_glyph\":null,\"muted_glyph\":null,\"nonselection_glyph\":{\"id\":\"404704\"},\"view\":{\"id\":\"404706\"}},\"id\":\"404705\",\"type\":\"GlyphRenderer\"},{\"attributes\":{\"overlay\":{\"id\":\"404825\"}},\"id\":\"404821\",\"type\":\"BoxZoomTool\"},{\"attributes\":{},\"id\":\"404822\",\"type\":\"SaveTool\"},{\"attributes\":{},\"id\":\"405028\",\"type\":\"DatetimeTickFormatter\"},{\"attributes\":{\"months\":[0,4,8]},\"id\":\"404794\",\"type\":\"MonthsTicker\"},{\"attributes\":{\"axis_label\":\"Glucose(mmol/l)\",\"formatter\":{\"id\":\"404711\"},\"major_label_policy\":{\"id\":\"404713\"},\"ticker\":{\"id\":\"404685\"}},\"id\":\"404684\",\"type\":\"LinearAxis\"},{\"attributes\":{},\"id\":\"404823\",\"type\":\"ResetTool\"},{\"attributes\":{\"num_minor_ticks\":5,\"tickers\":[{\"id\":\"404717\"},{\"id\":\"404718\"},{\"id\":\"404719\"},{\"id\":\"404720\"},{\"id\":\"404721\"},{\"id\":\"404722\"},{\"id\":\"404723\"},{\"id\":\"404724\"},{\"id\":\"404725\"},{\"id\":\"404726\"},{\"id\":\"404727\"},{\"id\":\"404728\"}]},\"id\":\"404681\",\"type\":\"DatetimeTicker\"},{\"attributes\":{},\"id\":\"404678\",\"type\":\"LinearScale\"},{\"attributes\":{\"axis_label\":\"Glucose(mmol/l)\",\"formatter\":{\"id\":\"404905\"},\"major_label_policy\":{\"id\":\"404907\"},\"ticker\":{\"id\":\"404879\"}},\"id\":\"404878\",\"type\":\"LinearAxis\"},{\"attributes\":{\"axis_label\":\"Time(H)\",\"formatter\":{\"id\":\"404708\"},\"major_label_policy\":{\"id\":\"404710\"},\"ticker\":{\"id\":\"404681\"}},\"id\":\"404680\",\"type\":\"DatetimeAxis\"},{\"attributes\":{\"axis\":{\"id\":\"404878\"},\"dimension\":1,\"ticker\":null},\"id\":\"404881\",\"type\":\"Grid\"},{\"attributes\":{},\"id\":\"404689\",\"type\":\"WheelZoomTool\"},{\"attributes\":{},\"id\":\"404883\",\"type\":\"WheelZoomTool\"},{\"attributes\":{},\"id\":\"405030\",\"type\":\"AllLabels\"},{\"attributes\":{\"axis\":{\"id\":\"404680\"},\"ticker\":null},\"id\":\"404683\",\"type\":\"Grid\"},{\"attributes\":{\"axis_label\":\"Time(H)\",\"formatter\":{\"id\":\"404902\"},\"major_label_policy\":{\"id\":\"404904\"},\"ticker\":{\"id\":\"404875\"}},\"id\":\"404874\",\"type\":\"DatetimeAxis\"},{\"attributes\":{\"overlay\":{\"id\":\"404762\"}},\"id\":\"404758\",\"type\":\"BoxZoomTool\"},{\"attributes\":{\"axis\":{\"id\":\"404874\"},\"ticker\":null},\"id\":\"404877\",\"type\":\"Grid\"},{\"attributes\":{},\"id\":\"404708\",\"type\":\"DatetimeTickFormatter\"},{\"attributes\":{},\"id\":\"405031\",\"type\":\"BasicTickFormatter\"},{\"attributes\":{},\"id\":\"404676\",\"type\":\"LinearScale\"},{\"attributes\":{\"active_multi\":null,\"tools\":[{\"id\":\"404756\"},{\"id\":\"404757\"},{\"id\":\"404758\"},{\"id\":\"404759\"},{\"id\":\"404760\"},{\"id\":\"404761\"}]},\"id\":\"404763\",\"type\":\"Toolbar\"},{\"attributes\":{},\"id\":\"404879\",\"type\":\"BasicTicker\"},{\"attributes\":{},\"id\":\"404685\",\"type\":\"BasicTicker\"},{\"attributes\":{},\"id\":\"405033\",\"type\":\"AllLabels\"},{\"attributes\":{\"active_multi\":null,\"tools\":[{\"id\":\"404688\"},{\"id\":\"404689\"},{\"id\":\"404690\"},{\"id\":\"404691\"},{\"id\":\"404692\"},{\"id\":\"404693\"}]},\"id\":\"404695\",\"type\":\"Toolbar\"},{\"attributes\":{},\"id\":\"404710\",\"type\":\"AllLabels\"},{\"attributes\":{},\"id\":\"404870\",\"type\":\"LinearScale\"},{\"attributes\":{},\"id\":\"404693\",\"type\":\"HelpTool\"},{\"attributes\":{},\"id\":\"404711\",\"type\":\"BasicTickFormatter\"},{\"attributes\":{\"data_source\":{\"id\":\"404731\"},\"glyph\":{\"id\":\"404732\"},\"hover_glyph\":null,\"muted_glyph\":null,\"nonselection_glyph\":{\"id\":\"404733\"},\"view\":{\"id\":\"404735\"}},\"id\":\"404734\",\"type\":\"GlyphRenderer\"},{\"attributes\":{},\"id\":\"404872\",\"type\":\"LinearScale\"},{\"attributes\":{},\"id\":\"404688\",\"type\":\"PanTool\"},{\"attributes\":{\"overlay\":{\"id\":\"404694\"}},\"id\":\"404690\",\"type\":\"BoxZoomTool\"},{\"attributes\":{\"line_alpha\":0.1,\"line_color\":\"#1f77b4\",\"line_width\":2,\"x\":{\"field\":\"x\"},\"y\":{\"field\":\"y\"}},\"id\":\"404772\",\"type\":\"Line\"},{\"attributes\":{\"num_minor_ticks\":5,\"tickers\":[{\"id\":\"404911\"},{\"id\":\"404912\"},{\"id\":\"404913\"},{\"id\":\"404914\"},{\"id\":\"404915\"},{\"id\":\"404916\"},{\"id\":\"404917\"},{\"id\":\"404918\"},{\"id\":\"404919\"},{\"id\":\"404920\"},{\"id\":\"404921\"},{\"id\":\"404922\"}]},\"id\":\"404875\",\"type\":\"DatetimeTicker\"},{\"attributes\":{},\"id\":\"404691\",\"type\":\"SaveTool\"},{\"attributes\":{\"line_color\":\"#1f77b4\",\"line_width\":2,\"x\":{\"field\":\"x\"},\"y\":{\"field\":\"y\"}},\"id\":\"404771\",\"type\":\"Line\"},{\"attributes\":{},\"id\":\"404692\",\"type\":\"ResetTool\"},{\"attributes\":{},\"id\":\"404713\",\"type\":\"AllLabels\"},{\"attributes\":{\"source\":{\"id\":\"404770\"}},\"id\":\"404774\",\"type\":\"CDSView\"},{\"attributes\":{},\"id\":\"404882\",\"type\":\"PanTool\"},{\"attributes\":{},\"id\":\"405035\",\"type\":\"Selection\"},{\"attributes\":{\"items\":[{\"id\":\"404798\"}]},\"id\":\"404797\",\"type\":\"Legend\"},{\"attributes\":{\"months\":[0,1,2,3,4,5,6,7,8,9,10,11]},\"id\":\"404724\",\"type\":\"MonthsTicker\"},{\"attributes\":{\"days\":[1,8,15,22]},\"id\":\"404722\",\"type\":\"DaysTicker\"},{\"attributes\":{\"base\":60,\"mantissas\":[1,2,5,10,15,20,30],\"max_interval\":1800000.0,\"min_interval\":1000.0,\"num_minor_ticks\":0},\"id\":\"404718\",\"type\":\"AdaptiveTicker\"},{\"attributes\":{\"bottom_units\":\"screen\",\"fill_alpha\":0.5,\"fill_color\":\"lightgrey\",\"left_units\":\"screen\",\"level\":\"overlay\",\"line_alpha\":1.0,\"line_color\":\"black\",\"line_dash\":[4,4],\"line_width\":2,\"right_units\":\"screen\",\"syncable\":false,\"top_units\":\"screen\"},\"id\":\"404825\",\"type\":\"BoxAnnotation\"},{\"attributes\":{\"text\":\"Linear interpolated glucose distribution over time\"},\"id\":\"404738\",\"type\":\"Title\"},{\"attributes\":{\"months\":[0,2,4,6,8,10]},\"id\":\"404725\",\"type\":\"MonthsTicker\"},{\"attributes\":{},\"id\":\"404715\",\"type\":\"Selection\"},{\"attributes\":{\"months\":[0,6]},\"id\":\"404727\",\"type\":\"MonthsTicker\"},{\"attributes\":{},\"id\":\"404744\",\"type\":\"LinearScale\"},{\"attributes\":{\"child\":{\"id\":\"404800\"},\"title\":\"padded interpolation\"},\"id\":\"404862\",\"type\":\"Panel\"},{\"attributes\":{\"months\":[0,6]},\"id\":\"404921\",\"type\":\"MonthsTicker\"},{\"attributes\":{\"mantissas\":[1,2,5],\"max_interval\":500.0,\"num_minor_ticks\":0},\"id\":\"405037\",\"type\":\"AdaptiveTicker\"},{\"attributes\":{},\"id\":\"404728\",\"type\":\"YearsTicker\"},{\"attributes\":{\"base\":60,\"mantissas\":[1,2,5,10,15,20,30],\"max_interval\":1800000.0,\"min_interval\":1000.0,\"num_minor_ticks\":0},\"id\":\"405038\",\"type\":\"AdaptiveTicker\"},{\"attributes\":{\"base\":24,\"mantissas\":[1,2,4,6,8,12],\"max_interval\":43200000.0,\"min_interval\":3600000.0,\"num_minor_ticks\":0},\"id\":\"404719\",\"type\":\"AdaptiveTicker\"},{\"attributes\":{\"days\":[1,2,3,4,5,6,7,8,9,10,11,12,13,14,15,16,17,18,19,20,21,22,23,24,25,26,27,28,29,30,31]},\"id\":\"405040\",\"type\":\"DaysTicker\"},{\"attributes\":{},\"id\":\"404746\",\"type\":\"LinearScale\"},{\"attributes\":{\"base\":24,\"mantissas\":[1,2,4,6,8,12],\"max_interval\":43200000.0,\"min_interval\":3600000.0,\"num_minor_ticks\":0},\"id\":\"405039\",\"type\":\"AdaptiveTicker\"},{\"attributes\":{\"child\":{\"id\":\"404863\"},\"title\":\"polynomial interpolation\"},\"id\":\"404925\",\"type\":\"Panel\"},{\"attributes\":{},\"id\":\"404776\",\"type\":\"DatetimeTickFormatter\"},{\"attributes\":{\"days\":[1,4,7,10,13,16,19,22,25,28]},\"id\":\"404721\",\"type\":\"DaysTicker\"},{\"attributes\":{\"line_alpha\":0.1,\"line_color\":\"#1f77b4\"},\"id\":\"404733\",\"type\":\"Line\"},{\"attributes\":{},\"id\":\"404716\",\"type\":\"UnionRenderers\"},{\"attributes\":{\"days\":[1,2,3,4,5,6,7,8,9,10,11,12,13,14,15,16,17,18,19,20,21,22,23,24,25,26,27,28,29,30,31]},\"id\":\"404720\",\"type\":\"DaysTicker\"},{\"attributes\":{\"days\":[1,8,15,22]},\"id\":\"404916\",\"type\":\"DaysTicker\"},{\"attributes\":{\"months\":[0,1,2,3,4,5,6,7,8,9,10,11]},\"id\":\"405044\",\"type\":\"MonthsTicker\"},{\"attributes\":{\"months\":[0,2,4,6,8,10]},\"id\":\"405045\",\"type\":\"MonthsTicker\"},{\"attributes\":{\"source\":{\"id\":\"404731\"}},\"id\":\"404735\",\"type\":\"CDSView\"},{\"attributes\":{\"months\":[0,4,8]},\"id\":\"404726\",\"type\":\"MonthsTicker\"},{\"attributes\":{\"days\":[1,4,7,10,13,16,19,22,25,28]},\"id\":\"405041\",\"type\":\"DaysTicker\"},{\"attributes\":{\"data\":{\"x\":{\"__ndarray__\":\"AABwIB2ldkIAAKyHH6V2QgAA5NA0pXZCAACkpTaldkIAANI4OaV2QgAA3n1CpXZCAAAcGkqldkIAAPa0TaV2QgAAHk9PpXZCAACa4U+ldkIAADIcUKV2QgAA2CpQpXZCAAD6y1CldkIAAIQyUaV2QgAAHG1RpXZCAADWSFKldkIAAHxXUqV2QgAAYK9SpXZCAABS21KldkIAAOoVU6V2QgAAglBTpXZCAADUZlSldkIAAJwWVaV2QgAAcppVpXZCAAAeolaldkIAAE4XV6V2QgAAyqlXpXZCAAC81VeldkIAAPoeWKV2QgAARjxYpXZCAACSWVildkIAAISFWKV2QgAAHMBYpXZCAAAO7FildkIAALT6WKV2QgAAmFJZpXZCAADkb1mldkIAAG7WWaV2QgAABhFapXZCAACeS1qldkIAADaGWqV2QgAAKLJapXZCAABm+1qldkIAAP41W6V2QgAA7n9dpXZCAABOal6ldkIAADLCXqV2QgAARo9fpXZCAAAQdGWldkIAAIQrZ6V2QgAAfFBopXZCAAAuUWqldkIAAEIea6V2QgAAMmhtpXZCAABUeB2ldkIAAA5UHqV2QgAAyC8fpXZCAACCCyCldkIAADznIKV2QgAA9sIhpXZCAACwniKldkIAAGp6I6V2QgAAJFYkpXZCAADeMSWldkIAAJgNJqV2QgAAUukmpXZCAAAMxSeldkIAAMagKKV2QgAAgHwppXZCAAA6WCqldkIAAPQzK6V2QgAArg8spXZCAABo6yyldkIAACLHLaV2QgAA3KIupXZCAACWfi+ldkIAAFBaMKV2QgAACjYxpXZCAADEETKldkIAAH7tMqV2QgAAOMkzpXZCAACYszSldkIAAFKPNaV2QgAADGs2pXZCAADGRjeldkIAAIAiOKV2QgAA4Aw5pXZCAACa6DmldkIAAFTEOqV2QgAADqA7pXZCAADIezyldkIAAIJXPaV2QgAAPDM+pXZCAAD2Dj+ldkIAALDqP6V2QgAAasZApXZCAAAkokGldkIAAN59QqV2QgAAmFlDpXZCAABSNUSldkIAAAwRRaV2QgAAxuxFpXZCAACAyEaldkIAADqkR6V2QgAA9H9IpXZCAACuW0mldkIAAGg3SqV2QgAAUKZNpXZCAAAKgk6ldkIAAGaoU6V2QgAAxpJUpXZCAADaX1WldkIAAGjdWKV2QgAAIrlZpXZCAAA2hlqldkIAAJZwW6V2QgAAxANepXZCAAB+316ldkIAADi7X6V2QgAA8pZgpXZCAACscmGldkIAAGZOYqV2QgAAICpjpXZCAADaBWSldkIAADrwZKV2QgAA9MtlpXZCAACup2aldkIAAGiDZ6V2QgAAIl9opXZCAADcOmmldkIAAJYWaqV2QgAAquNqpXZCAABkv2uldkIAAMSpbKV2QgAAfoVtpXZCAAA4YW6ldkI=\",\"dtype\":\"float64\",\"order\":\"little\",\"shape\":[136]},\"y\":{\"__ndarray__\":\"AAAAAABAW0AAAAAAAABdQAAAAAAAwF5AAAAAAADAY0AAAAAAAJBiQAAAAAAAYGFAAAAAAADgYkAAAAAAACBgQAAAAAAAIGRAAAAAAAAAZ0AAAAAAAEBmQAAAAAAAQGZAAAAAAABAXkAAAAAAAMBbQAAAAAAAgFpAAAAAAADAVkAAAAAAAEBYQAAAAAAAgFpAAAAAAACAWkAAAAAAAEBYQAAAAAAAgFVAAAAAAACAXEAAAAAAACBgQAAAAAAAgF1AAAAAAACAXUAAAAAAAMBcQAAAAAAAQFpAAAAAAABAW0AAAAAAAMBaQAAAAAAAwFtAAAAAAAAAXkAAAAAAACBhQAAAAAAAwGBAAAAAAAAgYEAAAAAAAEBfQAAAAAAAgF5AAAAAAAAAX0AAAAAAAMBfQAAAAAAAQF5AAAAAAADAXkAAAAAAAIBeQAAAAAAAAF9AAAAAAACAX0AAAAAAAABgQAAAAAAAgFtAAAAAAAAAYEAAAAAAAABdQAAAAAAAgFpAAAAAAADgYkAAAAAAAIBfQAAAAAAAQGBAAAAAAACAXEAAAAAAAIBaQAAAAAAAwFtAAAAAAADAW0AAAAAAAMBbQAAAAAAAwFtAAAAAAADAW0AAAAAAAMBbQAAAAAAAwFtAAAAAAADAW0AAAAAAAMBbQAAAAAAAwFtAAAAAAADAW0AAAAAAAMBbQAAAAAAAwFtAAAAAAADAW0AAAAAAAMBbQAAAAAAAwFtAAAAAAADAW0AAAAAAAMBbQAAAAAAAwFtAAAAAAADAW0AAAAAAAMBbQAAAAAAAwFtAAAAAAADAW0AAAAAAAMBbQAAAAAAAwFtAAAAAAADAW0AAAAAAAMBbQAAAAAAAwFtAAAAAAADAW0AAAAAAAMBbQAAAAAAAwFtAAAAAAADAW0AAAAAAAMBbQAAAAAAAwFtAAAAAAADAW0AAAAAAAMBbQAAAAAAAwFtAAAAAAADAW0AAAAAAAMBbQAAAAAAAwFtAAAAAAADAW0AAAAAAAMBbQAAAAAAAwFtAAAAAAADAW0AAAAAAAMBbQAAAAAAAwFtAAAAAAADAW0AAAAAAAMBbQAAAAAAAwFtAAAAAAADAW0AAAAAAAMBbQAAAAAAAwFtAAAAAAADAW0AAAAAAAMBbQAAAAAAAwFtAAAAAAADAW0AAAAAAAMBbQAAAAAAAwFtAAAAAAADAW0AAAAAAAMBbQAAAAAAAwFtAAAAAAADAW0AAAAAAAMBbQAAAAAAAwFtAAAAAAADAW0AAAAAAAMBbQAAAAAAAwFtAAAAAAADAW0AAAAAAAMBbQAAAAAAAwFtAAAAAAADAW0AAAAAAAMBbQAAAAAAAwFtAAAAAAADAW0AAAAAAAMBbQAAAAAAAwFtAAAAAAADAW0AAAAAAAMBbQAAAAAAAwFtAAAAAAADAW0AAAAAAAMBbQAAAAAAAwFtAAAAAAADAW0A=\",\"dtype\":\"float64\",\"order\":\"little\",\"shape\":[136]}},\"selected\":{\"id\":\"404783\"},\"selection_policy\":{\"id\":\"404784\"}},\"id\":\"404770\",\"type\":\"ColumnDataSource\"},{\"attributes\":{\"days\":[1,15]},\"id\":\"405043\",\"type\":\"DaysTicker\"},{\"attributes\":{\"num_minor_ticks\":5,\"tickers\":[{\"id\":\"404785\"},{\"id\":\"404786\"},{\"id\":\"404787\"},{\"id\":\"404788\"},{\"id\":\"404789\"},{\"id\":\"404790\"},{\"id\":\"404791\"},{\"id\":\"404792\"},{\"id\":\"404793\"},{\"id\":\"404794\"},{\"id\":\"404795\"},{\"id\":\"404796\"}]},\"id\":\"404749\",\"type\":\"DatetimeTicker\"},{\"attributes\":{},\"id\":\"404778\",\"type\":\"AllLabels\"},{\"attributes\":{\"months\":[0,6]},\"id\":\"405047\",\"type\":\"MonthsTicker\"},{\"attributes\":{\"data_source\":{\"id\":\"404770\"},\"glyph\":{\"id\":\"404771\"},\"hover_glyph\":null,\"muted_glyph\":null,\"nonselection_glyph\":{\"id\":\"404772\"},\"view\":{\"id\":\"404774\"}},\"id\":\"404773\",\"type\":\"GlyphRenderer\"},{\"attributes\":{},\"id\":\"404933\",\"type\":\"LinearScale\"},{\"attributes\":{},\"id\":\"404779\",\"type\":\"BasicTickFormatter\"},{\"attributes\":{\"child\":{\"id\":\"404737\"},\"title\":\"Linear interpolation\"},\"id\":\"404799\",\"type\":\"Panel\"},{\"attributes\":{\"below\":[{\"id\":\"404937\"}],\"center\":[{\"id\":\"404940\"},{\"id\":\"404944\"},{\"id\":\"404986\"}],\"left\":[{\"id\":\"404941\"}],\"renderers\":[{\"id\":\"404962\"}],\"title\":{\"id\":\"404927\"},\"toolbar\":{\"id\":\"404952\"},\"x_range\":{\"id\":\"404929\"},\"x_scale\":{\"id\":\"404933\"},\"y_range\":{\"id\":\"404931\"},\"y_scale\":{\"id\":\"404935\"}},\"id\":\"404926\",\"subtype\":\"Figure\",\"type\":\"Plot\"},{\"attributes\":{\"days\":[1,8,15,22]},\"id\":\"405042\",\"type\":\"DaysTicker\"},{\"attributes\":{\"below\":[{\"id\":\"404748\"}],\"center\":[{\"id\":\"404751\"},{\"id\":\"404755\"},{\"id\":\"404797\"}],\"left\":[{\"id\":\"404752\"}],\"renderers\":[{\"id\":\"404773\"}],\"title\":{\"id\":\"404738\"},\"toolbar\":{\"id\":\"404763\"},\"x_range\":{\"id\":\"404740\"},\"x_scale\":{\"id\":\"404744\"},\"y_range\":{\"id\":\"404742\"},\"y_scale\":{\"id\":\"404746\"}},\"id\":\"404737\",\"subtype\":\"Figure\",\"type\":\"Plot\"},{\"attributes\":{\"data\":{\"x\":{\"__ndarray__\":\"AABwIB2ldkIAAKyHH6V2QgAA5NA0pXZCAACkpTaldkIAANI4OaV2QgAA3n1CpXZCAAAcGkqldkIAAPa0TaV2QgAAHk9PpXZCAACa4U+ldkIAADIcUKV2QgAA2CpQpXZCAAD6y1CldkIAAIQyUaV2QgAAHG1RpXZCAADWSFKldkIAAHxXUqV2QgAAYK9SpXZCAABS21KldkIAAOoVU6V2QgAAglBTpXZCAADUZlSldkIAAJwWVaV2QgAAcppVpXZCAAAeolaldkIAAE4XV6V2QgAAyqlXpXZCAAC81VeldkIAAPoeWKV2QgAARjxYpXZCAACSWVildkIAAISFWKV2QgAAHMBYpXZCAAAO7FildkIAALT6WKV2QgAAmFJZpXZCAADkb1mldkIAAG7WWaV2QgAABhFapXZCAACeS1qldkIAADaGWqV2QgAAKLJapXZCAABm+1qldkIAAP41W6V2QgAA7n9dpXZCAABOal6ldkIAADLCXqV2QgAARo9fpXZCAAAQdGWldkIAAIQrZ6V2QgAAfFBopXZCAAAuUWqldkIAAEIea6V2QgAAMmhtpXZCAABUeB2ldkIAAA5UHqV2QgAAyC8fpXZCAACCCyCldkIAADznIKV2QgAA9sIhpXZCAACwniKldkIAAGp6I6V2QgAAJFYkpXZCAADeMSWldkIAAJgNJqV2QgAAUukmpXZCAAAMxSeldkIAAMagKKV2QgAAgHwppXZCAAA6WCqldkIAAPQzK6V2QgAArg8spXZCAABo6yyldkIAACLHLaV2QgAA3KIupXZCAACWfi+ldkIAAFBaMKV2QgAACjYxpXZCAADEETKldkIAAH7tMqV2QgAAOMkzpXZCAACYszSldkIAAFKPNaV2QgAADGs2pXZCAADGRjeldkIAAIAiOKV2QgAA4Aw5pXZCAACa6DmldkIAAFTEOqV2QgAADqA7pXZCAADIezyldkIAAIJXPaV2QgAAPDM+pXZCAAD2Dj+ldkIAALDqP6V2QgAAasZApXZCAAAkokGldkIAAN59QqV2QgAAmFlDpXZCAABSNUSldkIAAAwRRaV2QgAAxuxFpXZCAACAyEaldkIAADqkR6V2QgAA9H9IpXZCAACuW0mldkIAAGg3SqV2QgAAUKZNpXZCAAAKgk6ldkIAAGaoU6V2QgAAxpJUpXZCAADaX1WldkIAAGjdWKV2QgAAIrlZpXZCAAA2hlqldkIAAJZwW6V2QgAAxANepXZCAAB+316ldkIAADi7X6V2QgAA8pZgpXZCAACscmGldkIAAGZOYqV2QgAAICpjpXZCAADaBWSldkIAADrwZKV2QgAA9MtlpXZCAACup2aldkIAAGiDZ6V2QgAAIl9opXZCAADcOmmldkIAAJYWaqV2QgAAquNqpXZCAABkv2uldkIAAMSpbKV2QgAAfoVtpXZCAAA4YW6ldkI=\",\"dtype\":\"float64\",\"order\":\"little\",\"shape\":[136]},\"y\":{\"__ndarray__\":\"AAAAAABAW0CwT9kc1+BZQAAAAAAAwF5AAAAAAADAY0AMdRCS+/diQAAAAAAAYGFAAAAAAADgYkAAAAAAACBgQAAAAAAAIGRAAAAAAAAAZ0AAAAAAAEBmQAAAAAAAQGZAAAAAAABAXkAAAAAAAMBbQAAAAAAAgFpAAAAAAADAVkAAAAAAAEBYQAAAAAAAgFpAAAAAAACAWkAAAAAAAEBYQAAAAAAAgFVAAAAAAACAXEAAAAAAACBgQAAAAAAAgF1AAAAAAACAXUAAAAAAAMBcQAAAAAAAQFpAAAAAAABAW0AAAAAAAMBaQAAAAAAAwFtAAAAAAAAAXkAAAAAAACBhQAAAAAAAwGBAAAAAAAAgYEAAAAAAAEBfQAAAAAAAgF5AAAAAAAAAX0AAAAAAAMBfQAAAAAAAQF5AAAAAAADAXkAAAAAAAIBeQAAAAAAAAF9AAAAAAACAX0AAAAAAAABgQAAAAAAAgFtAAAAAAAAAYEAAAAAAAABdQAAAAAAAgFpAAAAAAADgYkAAAAAAAIBfQAAAAAAAQGBAAAAAAACAXEAAAAAAAIBaQAAAAAAAwFtAAAAAAAAA+H8AAAAAAAD4fwAAAAAAAPh/AAAAAAAA+H8AAAAAAAD4fwAAAAAAAPh/AAAAAAAA+H8AAAAAAAD4fwAAAAAAAPh/AAAAAAAA+H8AAAAAAAD4fwAAAAAAAPh/AAAAAAAA+H8AAAAAAAD4fwAAAAAAAPh/AAAAAAAA+H8AAAAAAAD4fwAAAAAAAPh/AAAAAAAA+H8AAAAAAAD4fwAAAAAAAPh/AAAAAAAA+H8AAAAAAAD4fwAAAAAAAPh/AAAAAAAA+H8AAAAAAAD4fwAAAAAAAPh/AAAAAAAA+H8AAAAAAAD4fwAAAAAAAPh/AAAAAAAA+H8AAAAAAAD4fwAAAAAAAPh/AAAAAAAA+H8AAAAAAAD4fwAAAAAAAPh/AAAAAAAA+H8AAAAAAAD4fwAAAAAAAPh/AAAAAAAA+H8AAAAAAAD4fwAAAAAAAPh/AAAAAAAA+H8AAAAAAAD4fwAAAAAAAPh/AAAAAAAA+H8AAAAAAAD4fwAAAAAAAPh/AAAAAAAA+H8AAAAAAAD4fwAAAAAAAPh/AAAAAAAA+H8AAAAAAAD4fwAAAAAAAPh/AAAAAAAA+H8AAAAAAAD4fwAAAAAAAPh/AAAAAAAA+H8AAAAAAAD4fwAAAAAAAPh/AAAAAAAA+H8AAAAAAAD4fwAAAAAAAPh/AAAAAAAA+H8AAAAAAAD4fwAAAAAAAPh/AAAAAAAA+H8AAAAAAAD4fwAAAAAAAPh/AAAAAAAA+H8AAAAAAAD4fwAAAAAAAPh/AAAAAAAA+H8AAAAAAAD4fwAAAAAAAPh/AAAAAAAA+H8AAAAAAAD4fwAAAAAAAPh/AAAAAAAA+H8AAAAAAAD4fwAAAAAAAPh/AAAAAAAA+H8=\",\"dtype\":\"float64\",\"order\":\"little\",\"shape\":[136]}},\"selected\":{\"id\":\"404972\"},\"selection_policy\":{\"id\":\"404973\"}},\"id\":\"404959\",\"type\":\"ColumnDataSource\"},{\"attributes\":{\"bottom_units\":\"screen\",\"fill_alpha\":0.5,\"fill_color\":\"lightgrey\",\"left_units\":\"screen\",\"level\":\"overlay\",\"line_alpha\":1.0,\"line_color\":\"black\",\"line_dash\":[4,4],\"line_width\":2,\"right_units\":\"screen\",\"syncable\":false,\"top_units\":\"screen\"},\"id\":\"404694\",\"type\":\"BoxAnnotation\"},{\"attributes\":{\"active_multi\":null,\"tools\":[{\"id\":\"404819\"},{\"id\":\"404820\"},{\"id\":\"404821\"},{\"id\":\"404822\"},{\"id\":\"404823\"},{\"id\":\"404824\"}]},\"id\":\"404826\",\"type\":\"Toolbar\"},{\"attributes\":{},\"id\":\"404756\",\"type\":\"PanTool\"},{\"attributes\":{\"months\":[0,4,8]},\"id\":\"405046\",\"type\":\"MonthsTicker\"},{\"attributes\":{},\"id\":\"404740\",\"type\":\"DataRange1d\"},{\"attributes\":{\"axis_label\":\"Glucose(mmol/l)\",\"formatter\":{\"id\":\"404968\"},\"major_label_policy\":{\"id\":\"404970\"},\"ticker\":{\"id\":\"404942\"}},\"id\":\"404941\",\"type\":\"LinearAxis\"},{\"attributes\":{\"data_source\":{\"id\":\"404959\"},\"glyph\":{\"id\":\"404960\"},\"hover_glyph\":null,\"muted_glyph\":null,\"nonselection_glyph\":{\"id\":\"404961\"},\"view\":{\"id\":\"404963\"}},\"id\":\"404962\",\"type\":\"GlyphRenderer\"},{\"attributes\":{},\"id\":\"404760\",\"type\":\"ResetTool\"},{\"attributes\":{},\"id\":\"404781\",\"type\":\"AllLabels\"},{\"attributes\":{},\"id\":\"404742\",\"type\":\"DataRange1d\"},{\"attributes\":{\"text\":\"quadratic interpolated glucose distribution over time\"},\"id\":\"404927\",\"type\":\"Title\"},{\"attributes\":{\"axis\":{\"id\":\"404748\"},\"ticker\":null},\"id\":\"404751\",\"type\":\"Grid\"},{\"attributes\":{\"line_alpha\":0.1,\"line_color\":\"#1f77b4\",\"line_width\":2,\"x\":{\"field\":\"x\"},\"y\":{\"field\":\"y\"}},\"id\":\"404835\",\"type\":\"Line\"},{\"attributes\":{},\"id\":\"404929\",\"type\":\"DataRange1d\"},{\"attributes\":{},\"id\":\"404759\",\"type\":\"SaveTool\"},{\"attributes\":{\"label\":{\"value\":\"Interpolated glucose.\"},\"renderers\":[{\"id\":\"404836\"}]},\"id\":\"404861\",\"type\":\"LegendItem\"},{\"attributes\":{},\"id\":\"404931\",\"type\":\"DataRange1d\"},{\"attributes\":{},\"id\":\"404753\",\"type\":\"BasicTicker\"},{\"attributes\":{\"axis_label\":\"Time(H)\",\"formatter\":{\"id\":\"404776\"},\"major_label_policy\":{\"id\":\"404778\"},\"ticker\":{\"id\":\"404749\"}},\"id\":\"404748\",\"type\":\"DatetimeAxis\"},{\"attributes\":{\"axis_label\":\"Glucose(mmol/l)\",\"formatter\":{\"id\":\"404779\"},\"major_label_policy\":{\"id\":\"404781\"},\"ticker\":{\"id\":\"404753\"}},\"id\":\"404752\",\"type\":\"LinearAxis\"},{\"attributes\":{},\"id\":\"404935\",\"type\":\"LinearScale\"},{\"attributes\":{\"source\":{\"id\":\"404833\"}},\"id\":\"404837\",\"type\":\"CDSView\"},{\"attributes\":{\"axis_label\":\"Time(H)\",\"formatter\":{\"id\":\"404965\"},\"major_label_policy\":{\"id\":\"404967\"},\"ticker\":{\"id\":\"404938\"}},\"id\":\"404937\",\"type\":\"DatetimeAxis\"},{\"attributes\":{\"mantissas\":[1,2,5],\"max_interval\":500.0,\"num_minor_ticks\":0},\"id\":\"404717\",\"type\":\"AdaptiveTicker\"},{\"attributes\":{},\"id\":\"404783\",\"type\":\"Selection\"},{\"attributes\":{\"items\":[{\"id\":\"404861\"}]},\"id\":\"404860\",\"type\":\"Legend\"},{\"attributes\":{\"num_minor_ticks\":5,\"tickers\":[{\"id\":\"404974\"},{\"id\":\"404975\"},{\"id\":\"404976\"},{\"id\":\"404977\"},{\"id\":\"404978\"},{\"id\":\"404979\"},{\"id\":\"404980\"},{\"id\":\"404981\"},{\"id\":\"404982\"},{\"id\":\"404983\"},{\"id\":\"404984\"},{\"id\":\"404985\"}]},\"id\":\"404938\",\"type\":\"DatetimeTicker\"},{\"attributes\":{\"axis\":{\"id\":\"404937\"},\"ticker\":null},\"id\":\"404940\",\"type\":\"Grid\"},{\"attributes\":{},\"id\":\"404757\",\"type\":\"WheelZoomTool\"},{\"attributes\":{},\"id\":\"404965\",\"type\":\"DatetimeTickFormatter\"},{\"attributes\":{},\"id\":\"404942\",\"type\":\"BasicTicker\"},{\"attributes\":{\"axis\":{\"id\":\"404941\"},\"dimension\":1,\"ticker\":null},\"id\":\"404944\",\"type\":\"Grid\"},{\"attributes\":{\"line_color\":\"#1f77b4\",\"line_width\":2,\"x\":{\"field\":\"x\"},\"y\":{\"field\":\"y\"}},\"id\":\"404960\",\"type\":\"Line\"},{\"attributes\":{},\"id\":\"404946\",\"type\":\"WheelZoomTool\"},{\"attributes\":{},\"id\":\"404967\",\"type\":\"AllLabels\"},{\"attributes\":{},\"id\":\"404950\",\"type\":\"HelpTool\"},{\"attributes\":{},\"id\":\"404968\",\"type\":\"BasicTickFormatter\"},{\"attributes\":{},\"id\":\"404945\",\"type\":\"PanTool\"},{\"attributes\":{\"overlay\":{\"id\":\"404951\"}},\"id\":\"404947\",\"type\":\"BoxZoomTool\"},{\"attributes\":{},\"id\":\"404948\",\"type\":\"SaveTool\"},{\"attributes\":{},\"id\":\"404949\",\"type\":\"ResetTool\"},{\"attributes\":{},\"id\":\"404970\",\"type\":\"AllLabels\"},{\"attributes\":{\"months\":[0,6]},\"id\":\"404984\",\"type\":\"MonthsTicker\"},{\"attributes\":{\"below\":[{\"id\":\"405000\"}],\"center\":[{\"id\":\"405003\"},{\"id\":\"405007\"},{\"id\":\"405049\"}],\"left\":[{\"id\":\"405004\"}],\"renderers\":[{\"id\":\"405025\"}],\"title\":{\"id\":\"404990\"},\"toolbar\":{\"id\":\"405015\"},\"x_range\":{\"id\":\"404992\"},\"x_scale\":{\"id\":\"404996\"},\"y_range\":{\"id\":\"404994\"},\"y_scale\":{\"id\":\"404998\"}},\"id\":\"404989\",\"subtype\":\"Figure\",\"type\":\"Plot\"},{\"attributes\":{},\"id\":\"404996\",\"type\":\"LinearScale\"},{\"attributes\":{\"data\":{\"x\":{\"__ndarray__\":\"AABwIB2ldkIAAKyHH6V2QgAA5NA0pXZCAACkpTaldkIAANI4OaV2QgAA3n1CpXZCAAAcGkqldkIAAPa0TaV2QgAAHk9PpXZCAACa4U+ldkIAADIcUKV2QgAA2CpQpXZCAAD6y1CldkIAAIQyUaV2QgAAHG1RpXZCAADWSFKldkIAAHxXUqV2QgAAYK9SpXZCAABS21KldkIAAOoVU6V2QgAAglBTpXZCAADUZlSldkIAAJwWVaV2QgAAcppVpXZCAAAeolaldkIAAE4XV6V2QgAAyqlXpXZCAAC81VeldkIAAPoeWKV2QgAARjxYpXZCAACSWVildkIAAISFWKV2QgAAHMBYpXZCAAAO7FildkIAALT6WKV2QgAAmFJZpXZCAADkb1mldkIAAG7WWaV2QgAABhFapXZCAACeS1qldkIAADaGWqV2QgAAKLJapXZCAABm+1qldkIAAP41W6V2QgAA7n9dpXZCAABOal6ldkIAADLCXqV2QgAARo9fpXZCAAAQdGWldkIAAIQrZ6V2QgAAfFBopXZCAAAuUWqldkIAAEIea6V2QgAAMmhtpXZCAABUeB2ldkIAAA5UHqV2QgAAyC8fpXZCAACCCyCldkIAADznIKV2QgAA9sIhpXZCAACwniKldkIAAGp6I6V2QgAAJFYkpXZCAADeMSWldkIAAJgNJqV2QgAAUukmpXZCAAAMxSeldkIAAMagKKV2QgAAgHwppXZCAAA6WCqldkIAAPQzK6V2QgAArg8spXZCAABo6yyldkIAACLHLaV2QgAA3KIupXZCAACWfi+ldkIAAFBaMKV2QgAACjYxpXZCAADEETKldkIAAH7tMqV2QgAAOMkzpXZCAACYszSldkIAAFKPNaV2QgAADGs2pXZCAADGRjeldkIAAIAiOKV2QgAA4Aw5pXZCAACa6DmldkIAAFTEOqV2QgAADqA7pXZCAADIezyldkIAAIJXPaV2QgAAPDM+pXZCAAD2Dj+ldkIAALDqP6V2QgAAasZApXZCAAAkokGldkIAAN59QqV2QgAAmFlDpXZCAABSNUSldkIAAAwRRaV2QgAAxuxFpXZCAACAyEaldkIAADqkR6V2QgAA9H9IpXZCAACuW0mldkIAAGg3SqV2QgAAUKZNpXZCAAAKgk6ldkIAAGaoU6V2QgAAxpJUpXZCAADaX1WldkIAAGjdWKV2QgAAIrlZpXZCAAA2hlqldkIAAJZwW6V2QgAAxANepXZCAAB+316ldkIAADi7X6V2QgAA8pZgpXZCAACscmGldkIAAGZOYqV2QgAAICpjpXZCAADaBWSldkIAADrwZKV2QgAA9MtlpXZCAACup2aldkIAAGiDZ6V2QgAAIl9opXZCAADcOmmldkIAAJYWaqV2QgAAquNqpXZCAABkv2uldkIAAMSpbKV2QgAAfoVtpXZCAAA4YW6ldkI=\",\"dtype\":\"float64\",\"order\":\"little\",\"shape\":[136]},\"y\":{\"__ndarray__\":\"AAAAAABAW0CshRSGACFQQAAAAAAAwF5AAAAAAADAY0BM4Ux3PYNgQAAAAAAAYGFAAAAAAADgYkAAAAAAACBgQAAAAAAAIGRAAAAAAAAAZ0AAAAAAAEBmQAAAAAAAQGZAAAAAAABAXkAAAAAAAMBbQAAAAAAAgFpAAAAAAADAVkAAAAAAAEBYQAAAAAAAgFpAAAAAAACAWkAAAAAAAEBYQAAAAAAAgFVAAAAAAACAXEAAAAAAACBgQAAAAAAAgF1AAAAAAACAXUAAAAAAAMBcQAAAAAAAQFpAAAAAAABAW0AAAAAAAMBaQAAAAAAAwFtAAAAAAAAAXkAAAAAAACBhQAAAAAAAwGBAAAAAAAAgYEAAAAAAAEBfQAAAAAAAgF5AAAAAAAAAX0AAAAAAAMBfQAAAAAAAQF5AAAAAAADAXkAAAAAAAIBeQAAAAAAAAF9AAAAAAACAX0AAAAAAAABgQAAAAAAAgFtAAAAAAAAAYEAAAAAAAABdQAAAAAAAgFpAAAAAAADgYkAAAAAAAIBfQAAAAAAAQGBAAAAAAACAXEAAAAAAAIBaQAAAAAAAwFtA8D4wtuAYN0B4XRYDpstjwMjc+rDXFHvAIAN2AcANicDIqtf9cr6TwNSylOPua5zA4Az52KlHo8DA73e0UBSpwBACRwTsm6/A5iEz5D1vs8B42moAAG63wLyqylY8yrvAYkmpc/lBwMA6SQHZkc3CwPBUbVvnh8XAhmzt+vlwyMDwj4G3yYjLwDi/KZFWz87ALP3yQ1Ai0cCuINvNU/TSwBpKTea13dTAcnlJjXbe1sC4rs/ClfbYwPTp34YTJtvAECt62e9s3cAkcp66KsvfwJJfJhViIOHABolCFN5m4sBytaNaCbnjwNTkSejjFuXAMBc1vW2A5sCETGXZpvXnwMqE2jyPdunACMCU5yYD68BA/pPZbZvswGg/2BJkP+7AkINhkwnv78BW5ZctL9XwwFqKITWxuPHA4LBN4Aqi8sDeWBwvPJHzwFqCjSFFhvTASi2htyWB9cC+WVfx3YH2wK4HsM5tiPfAGDerT9WU+MD450h0FKf5wFgaiTwrv/rANM5rqBnd+8CEA/G33wD9wFi6GGt9Kv7ApPLiwfJZ/8A01ifen0cAwdhzLy0y5QDBNlIITrCFAcFScbJAGikCwTLRLQVwzwLBxnF6m7F4A8EaU5gD3yQEwTB1hz340wTBBNhHSf2FBcGQe9km7joGweBfPNbK8gbB6oRwV5OtB8Gw6nWqR2sIwTaRTM/nKwnBfnj0xXPvCcF8oG2O67UKwTwJuChPfwvBuLLTlJ5LDMH0nMDS2RoNwejHfuIA7Q3BoDMOxBPCDsEU4G53EpoPwaJmUH5+OhDBnP3RqWmpEMHyNDy+yhkRwaQMj7uhixHBvITKoe7+EcEqne5wsXMSwfxV+yjq6RLBLq/wyZhhE8E=\",\"dtype\":\"float64\",\"order\":\"little\",\"shape\":[136]}},\"selected\":{\"id\":\"405035\"},\"selection_policy\":{\"id\":\"405036\"}},\"id\":\"405022\",\"type\":\"ColumnDataSource\"},{\"attributes\":{},\"id\":\"404972\",\"type\":\"Selection\"},{\"attributes\":{\"below\":[{\"id\":\"404680\"}],\"center\":[{\"id\":\"404683\"},{\"id\":\"404687\"},{\"id\":\"404729\"}],\"left\":[{\"id\":\"404684\"}],\"renderers\":[{\"id\":\"404705\"},{\"id\":\"404734\"}],\"title\":{\"id\":\"404670\"},\"toolbar\":{\"id\":\"404695\"},\"x_range\":{\"id\":\"404672\"},\"x_scale\":{\"id\":\"404676\"},\"y_range\":{\"id\":\"404674\"},\"y_scale\":{\"id\":\"404678\"}},\"id\":\"404669\",\"subtype\":\"Figure\",\"type\":\"Plot\"},{\"attributes\":{\"data_source\":{\"id\":\"405022\"},\"glyph\":{\"id\":\"405023\"},\"hover_glyph\":null,\"muted_glyph\":null,\"nonselection_glyph\":{\"id\":\"405024\"},\"view\":{\"id\":\"405026\"}},\"id\":\"405025\",\"type\":\"GlyphRenderer\"},{\"attributes\":{\"text\":\"spline interpolated glucose distribution over time\"},\"id\":\"404990\",\"type\":\"Title\"},{\"attributes\":{\"line_alpha\":0.1,\"line_color\":\"#1f77b4\",\"line_width\":2,\"x\":{\"field\":\"x\"},\"y\":{\"field\":\"y\"}},\"id\":\"404898\",\"type\":\"Line\"},{\"attributes\":{\"months\":[0,4,8]},\"id\":\"404983\",\"type\":\"MonthsTicker\"},{\"attributes\":{\"line_color\":\"#1f77b4\"},\"id\":\"404732\",\"type\":\"Line\"},{\"attributes\":{},\"id\":\"404839\",\"type\":\"DatetimeTickFormatter\"},{\"attributes\":{\"label\":{\"value\":\"Interpolated glucose.\"},\"renderers\":[{\"id\":\"404899\"}]},\"id\":\"404924\",\"type\":\"LegendItem\"},{\"attributes\":{},\"id\":\"404992\",\"type\":\"DataRange1d\"},{\"attributes\":{},\"id\":\"404985\",\"type\":\"YearsTicker\"},{\"attributes\":{},\"id\":\"404994\",\"type\":\"DataRange1d\"},{\"attributes\":{\"line_color\":\"#1f77b4\",\"line_width\":2,\"x\":{\"field\":\"x\"},\"y\":{\"field\":\"y\"}},\"id\":\"404897\",\"type\":\"Line\"},{\"attributes\":{},\"id\":\"404973\",\"type\":\"UnionRenderers\"},{\"attributes\":{\"axis_label\":\"Glucose(mmol/l)\",\"formatter\":{\"id\":\"405031\"},\"major_label_policy\":{\"id\":\"405033\"},\"ticker\":{\"id\":\"405005\"}},\"id\":\"405004\",\"type\":\"LinearAxis\"},{\"attributes\":{\"source\":{\"id\":\"404896\"}},\"id\":\"404900\",\"type\":\"CDSView\"},{\"attributes\":{\"months\":[0,2,4,6,8,10]},\"id\":\"404982\",\"type\":\"MonthsTicker\"},{\"attributes\":{},\"id\":\"404998\",\"type\":\"LinearScale\"},{\"attributes\":{\"items\":[{\"id\":\"404924\"}]},\"id\":\"404923\",\"type\":\"Legend\"},{\"attributes\":{\"axis_label\":\"Time(H)\",\"formatter\":{\"id\":\"405028\"},\"major_label_policy\":{\"id\":\"405030\"},\"ticker\":{\"id\":\"405001\"}},\"id\":\"405000\",\"type\":\"DatetimeAxis\"},{\"attributes\":{},\"id\":\"404841\",\"type\":\"AllLabels\"},{\"attributes\":{},\"id\":\"404842\",\"type\":\"BasicTickFormatter\"},{\"attributes\":{\"num_minor_ticks\":5,\"tickers\":[{\"id\":\"405037\"},{\"id\":\"405038\"},{\"id\":\"405039\"},{\"id\":\"405040\"},{\"id\":\"405041\"},{\"id\":\"405042\"},{\"id\":\"405043\"},{\"id\":\"405044\"},{\"id\":\"405045\"},{\"id\":\"405046\"},{\"id\":\"405047\"},{\"id\":\"405048\"}]},\"id\":\"405001\",\"type\":\"DatetimeTicker\"},{\"attributes\":{\"axis\":{\"id\":\"405000\"},\"ticker\":null},\"id\":\"405003\",\"type\":\"Grid\"},{\"attributes\":{},\"id\":\"405009\",\"type\":\"WheelZoomTool\"},{\"attributes\":{\"line_color\":\"#1f77b4\",\"line_width\":2,\"x\":{\"field\":\"x\"},\"y\":{\"field\":\"y\"}},\"id\":\"405023\",\"type\":\"Line\"},{\"attributes\":{\"bottom_units\":\"screen\",\"fill_alpha\":0.5,\"fill_color\":\"lightgrey\",\"left_units\":\"screen\",\"level\":\"overlay\",\"line_alpha\":1.0,\"line_color\":\"black\",\"line_dash\":[4,4],\"line_width\":2,\"right_units\":\"screen\",\"syncable\":false,\"top_units\":\"screen\"},\"id\":\"404951\",\"type\":\"BoxAnnotation\"},{\"attributes\":{},\"id\":\"404844\",\"type\":\"AllLabels\"},{\"attributes\":{\"axis\":{\"id\":\"405004\"},\"dimension\":1,\"ticker\":null},\"id\":\"405007\",\"type\":\"Grid\"},{\"attributes\":{},\"id\":\"405005\",\"type\":\"BasicTicker\"},{\"attributes\":{},\"id\":\"405013\",\"type\":\"HelpTool\"},{\"attributes\":{},\"id\":\"405008\",\"type\":\"PanTool\"},{\"attributes\":{\"overlay\":{\"id\":\"405014\"}},\"id\":\"405010\",\"type\":\"BoxZoomTool\"},{\"attributes\":{},\"id\":\"404846\",\"type\":\"Selection\"},{\"attributes\":{},\"id\":\"405011\",\"type\":\"SaveTool\"},{\"attributes\":{},\"id\":\"405012\",\"type\":\"ResetTool\"},{\"attributes\":{\"mantissas\":[1,2,5],\"max_interval\":500.0,\"num_minor_ticks\":0},\"id\":\"404974\",\"type\":\"AdaptiveTicker\"},{\"attributes\":{\"base\":60,\"mantissas\":[1,2,5,10,15,20,30],\"max_interval\":1800000.0,\"min_interval\":1000.0,\"num_minor_ticks\":0},\"id\":\"404975\",\"type\":\"AdaptiveTicker\"},{\"attributes\":{\"days\":[1,2,3,4,5,6,7,8,9,10,11,12,13,14,15,16,17,18,19,20,21,22,23,24,25,26,27,28,29,30,31]},\"id\":\"404977\",\"type\":\"DaysTicker\"},{\"attributes\":{\"base\":24,\"mantissas\":[1,2,4,6,8,12],\"max_interval\":43200000.0,\"min_interval\":3600000.0,\"num_minor_ticks\":0},\"id\":\"404976\",\"type\":\"AdaptiveTicker\"},{\"attributes\":{},\"id\":\"404847\",\"type\":\"UnionRenderers\"},{\"attributes\":{\"months\":[0,1,2,3,4,5,6,7,8,9,10,11]},\"id\":\"404981\",\"type\":\"MonthsTicker\"},{\"attributes\":{},\"id\":\"404907\",\"type\":\"AllLabels\"},{\"attributes\":{\"child\":{\"id\":\"404669\"},\"title\":\"Glucose\"},\"id\":\"404736\",\"type\":\"Panel\"},{\"attributes\":{\"days\":[1,4,7,10,13,16,19,22,25,28]},\"id\":\"404978\",\"type\":\"DaysTicker\"},{\"attributes\":{\"below\":[{\"id\":\"404874\"}],\"center\":[{\"id\":\"404877\"},{\"id\":\"404881\"},{\"id\":\"404923\"}],\"left\":[{\"id\":\"404878\"}],\"renderers\":[{\"id\":\"404899\"}],\"title\":{\"id\":\"404864\"},\"toolbar\":{\"id\":\"404889\"},\"x_range\":{\"id\":\"404866\"},\"x_scale\":{\"id\":\"404870\"},\"y_range\":{\"id\":\"404868\"},\"y_scale\":{\"id\":\"404872\"}},\"id\":\"404863\",\"subtype\":\"Figure\",\"type\":\"Plot\"},{\"attributes\":{\"active_multi\":null,\"tools\":[{\"id\":\"404945\"},{\"id\":\"404946\"},{\"id\":\"404947\"},{\"id\":\"404948\"},{\"id\":\"404949\"},{\"id\":\"404950\"}]},\"id\":\"404952\",\"type\":\"Toolbar\"},{\"attributes\":{\"days\":[1,15]},\"id\":\"404980\",\"type\":\"DaysTicker\"},{\"attributes\":{\"days\":[1,8,15,22]},\"id\":\"404979\",\"type\":\"DaysTicker\"},{\"attributes\":{},\"id\":\"404887\",\"type\":\"HelpTool\"},{\"attributes\":{\"data_source\":{\"id\":\"404896\"},\"glyph\":{\"id\":\"404897\"},\"hover_glyph\":null,\"muted_glyph\":null,\"nonselection_glyph\":{\"id\":\"404898\"},\"view\":{\"id\":\"404900\"}},\"id\":\"404899\",\"type\":\"GlyphRenderer\"},{\"attributes\":{\"line_alpha\":0.1,\"line_color\":\"#1f77b4\",\"line_width\":2,\"x\":{\"field\":\"x\"},\"y\":{\"field\":\"y\"}},\"id\":\"404961\",\"type\":\"Line\"},{\"attributes\":{},\"id\":\"404902\",\"type\":\"DatetimeTickFormatter\"},{\"attributes\":{\"label\":{\"value\":\"Interpolated glucose.\"},\"renderers\":[{\"id\":\"404962\"}]},\"id\":\"404987\",\"type\":\"LegendItem\"},{\"attributes\":{},\"id\":\"404885\",\"type\":\"SaveTool\"},{\"attributes\":{},\"id\":\"405036\",\"type\":\"UnionRenderers\"},{\"attributes\":{\"child\":{\"id\":\"404926\"},\"title\":\"quadratic interpolation\"},\"id\":\"404988\",\"type\":\"Panel\"},{\"attributes\":{\"text\":\"polynomial interpolated glucose distribution over time\"},\"id\":\"404864\",\"type\":\"Title\"},{\"attributes\":{\"source\":{\"id\":\"404959\"}},\"id\":\"404963\",\"type\":\"CDSView\"},{\"attributes\":{\"child\":{\"id\":\"404989\"},\"title\":\"spline interpolation\"},\"id\":\"405051\",\"type\":\"Panel\"},{\"attributes\":{},\"id\":\"404866\",\"type\":\"DataRange1d\"},{\"attributes\":{\"items\":[{\"id\":\"404987\"}]},\"id\":\"404986\",\"type\":\"Legend\"},{\"attributes\":{},\"id\":\"404904\",\"type\":\"AllLabels\"},{\"attributes\":{},\"id\":\"404868\",\"type\":\"DataRange1d\"},{\"attributes\":{},\"id\":\"404905\",\"type\":\"BasicTickFormatter\"},{\"attributes\":{\"active_multi\":null,\"tools\":[{\"id\":\"404882\"},{\"id\":\"404883\"},{\"id\":\"404884\"},{\"id\":\"404885\"},{\"id\":\"404886\"},{\"id\":\"404887\"}]},\"id\":\"404889\",\"type\":\"Toolbar\"},{\"attributes\":{\"bottom_units\":\"screen\",\"fill_alpha\":0.5,\"fill_color\":\"lightgrey\",\"left_units\":\"screen\",\"level\":\"overlay\",\"line_alpha\":1.0,\"line_color\":\"black\",\"line_dash\":[4,4],\"line_width\":2,\"right_units\":\"screen\",\"syncable\":false,\"top_units\":\"screen\"},\"id\":\"405014\",\"type\":\"BoxAnnotation\"},{\"attributes\":{},\"id\":\"404886\",\"type\":\"ResetTool\"},{\"attributes\":{\"mantissas\":[1,2,5],\"max_interval\":500.0,\"num_minor_ticks\":0},\"id\":\"404848\",\"type\":\"AdaptiveTicker\"},{\"attributes\":{\"overlay\":{\"id\":\"404888\"}},\"id\":\"404884\",\"type\":\"BoxZoomTool\"},{\"attributes\":{\"base\":60,\"mantissas\":[1,2,5,10,15,20,30],\"max_interval\":1800000.0,\"min_interval\":1000.0,\"num_minor_ticks\":0},\"id\":\"404849\",\"type\":\"AdaptiveTicker\"},{\"attributes\":{},\"id\":\"405048\",\"type\":\"YearsTicker\"},{\"attributes\":{\"days\":[1,2,3,4,5,6,7,8,9,10,11,12,13,14,15,16,17,18,19,20,21,22,23,24,25,26,27,28,29,30,31]},\"id\":\"404851\",\"type\":\"DaysTicker\"},{\"attributes\":{\"base\":24,\"mantissas\":[1,2,4,6,8,12],\"max_interval\":43200000.0,\"min_interval\":3600000.0,\"num_minor_ticks\":0},\"id\":\"404850\",\"type\":\"AdaptiveTicker\"},{\"attributes\":{\"months\":[0,1,2,3,4,5,6,7,8,9,10,11]},\"id\":\"404855\",\"type\":\"MonthsTicker\"},{\"attributes\":{\"months\":[0,2,4,6,8,10]},\"id\":\"404856\",\"type\":\"MonthsTicker\"},{\"attributes\":{\"days\":[1,4,7,10,13,16,19,22,25,28]},\"id\":\"404852\",\"type\":\"DaysTicker\"},{\"attributes\":{},\"id\":\"404909\",\"type\":\"Selection\"},{\"attributes\":{\"days\":[1,15]},\"id\":\"404854\",\"type\":\"DaysTicker\"},{\"attributes\":{\"months\":[0,6]},\"id\":\"404858\",\"type\":\"MonthsTicker\"},{\"attributes\":{\"days\":[1,8,15,22]},\"id\":\"404853\",\"type\":\"DaysTicker\"},{\"attributes\":{},\"id\":\"404859\",\"type\":\"YearsTicker\"},{\"attributes\":{\"months\":[0,4,8]},\"id\":\"404857\",\"type\":\"MonthsTicker\"},{\"attributes\":{\"line_alpha\":0.1,\"line_color\":\"#1f77b4\",\"line_width\":2,\"x\":{\"field\":\"x\"},\"y\":{\"field\":\"y\"}},\"id\":\"405024\",\"type\":\"Line\"},{\"attributes\":{},\"id\":\"404910\",\"type\":\"UnionRenderers\"},{\"attributes\":{\"active_multi\":null,\"tools\":[{\"id\":\"405008\"},{\"id\":\"405009\"},{\"id\":\"405010\"},{\"id\":\"405011\"},{\"id\":\"405012\"},{\"id\":\"405013\"}]},\"id\":\"405015\",\"type\":\"Toolbar\"},{\"attributes\":{\"bottom_units\":\"screen\",\"fill_alpha\":0.5,\"fill_color\":\"lightgrey\",\"left_units\":\"screen\",\"level\":\"overlay\",\"line_alpha\":1.0,\"line_color\":\"black\",\"line_dash\":[4,4],\"line_width\":2,\"right_units\":\"screen\",\"syncable\":false,\"top_units\":\"screen\"},\"id\":\"404888\",\"type\":\"BoxAnnotation\"}],\"root_ids\":[\"405052\"]},\"title\":\"Bokeh Application\",\"version\":\"2.3.2\"}};\n  var render_items = [{\"docid\":\"3b43d3d9-8c4d-43fe-b8ba-02055302af66\",\"root_ids\":[\"405052\"],\"roots\":{\"405052\":\"43c60275-238d-4fea-a355-5da7569035c1\"}}];\n  root.Bokeh.embed.embed_items_notebook(docs_json, render_items);\n\n  }\n  if (root.Bokeh !== undefined) {\n    embed_document(root);\n  } else {\n    var attempts = 0;\n    var timer = setInterval(function(root) {\n      if (root.Bokeh !== undefined) {\n        clearInterval(timer);\n        embed_document(root);\n      } else {\n        attempts++;\n        if (attempts > 100) {\n          clearInterval(timer);\n          console.log(\"Bokeh: ERROR: Unable to run BokehJS code because BokehJS library is missing\");\n        }\n      }\n    }, 10, root)\n  }\n})(window);",
      "application/vnd.bokehjs_exec.v0+json": ""
     },
     "metadata": {
      "application/vnd.bokehjs_exec.v0+json": {
       "id": "405052"
      }
     },
     "output_type": "display_data"
    },
    {
     "name": "stdout",
     "output_type": "stream",
     "text": [
      "Graphs show no major diffrence between interpolation mathods, but quadratic interpolating shows no weird line, so is the better method for visualization\n"
     ]
    },
    {
     "data": {
      "text/html": [
       "\n",
       "\n",
       "\n",
       "\n",
       "\n",
       "\n",
       "  <div class=\"bk-root\" id=\"4a87e433-21de-40f8-a028-8b7edcbd2392\" data-root-id=\"412289\"></div>\n"
      ]
     },
     "metadata": {},
     "output_type": "display_data"
    },
    {
     "data": {
      "application/javascript": "(function(root) {\n  function embed_document(root) {\n    \n  var docs_json = {\"b9b6c299-4027-4f3e-ad18-4edc18d01869\":{\"defs\":[],\"roots\":{\"references\":[{\"attributes\":{\"below\":[{\"id\":\"412300\"}],\"center\":[{\"id\":\"412303\"},{\"id\":\"412307\"},{\"id\":\"412349\"}],\"left\":[{\"id\":\"412304\"}],\"renderers\":[{\"id\":\"412325\"},{\"id\":\"412354\"}],\"title\":{\"id\":\"412290\"},\"toolbar\":{\"id\":\"412315\"},\"x_range\":{\"id\":\"412292\"},\"x_scale\":{\"id\":\"412296\"},\"y_range\":{\"id\":\"412294\"},\"y_scale\":{\"id\":\"412298\"}},\"id\":\"412289\",\"subtype\":\"Figure\",\"type\":\"Plot\"},{\"attributes\":{},\"id\":\"412309\",\"type\":\"WheelZoomTool\"},{\"attributes\":{\"items\":[{\"id\":\"412350\"},{\"id\":\"412380\"}]},\"id\":\"412349\",\"type\":\"Legend\"},{\"attributes\":{},\"id\":\"412335\",\"type\":\"Selection\"},{\"attributes\":{},\"id\":\"412336\",\"type\":\"UnionRenderers\"},{\"attributes\":{},\"id\":\"412292\",\"type\":\"DataRange1d\"},{\"attributes\":{\"data_source\":{\"id\":\"412351\"},\"glyph\":{\"id\":\"412352\"},\"hover_glyph\":null,\"muted_glyph\":null,\"nonselection_glyph\":{\"id\":\"412353\"},\"view\":{\"id\":\"412355\"}},\"id\":\"412354\",\"type\":\"GlyphRenderer\"},{\"attributes\":{\"axis_label\":\"Time\",\"formatter\":{\"id\":\"412328\"},\"major_label_policy\":{\"id\":\"412330\"},\"ticker\":{\"id\":\"412301\"}},\"id\":\"412300\",\"type\":\"DatetimeAxis\"},{\"attributes\":{\"axis\":{\"id\":\"412300\"},\"ticker\":null},\"id\":\"412303\",\"type\":\"Grid\"},{\"attributes\":{\"data_source\":{\"id\":\"412322\"},\"glyph\":{\"id\":\"412323\"},\"hover_glyph\":null,\"muted_glyph\":null,\"nonselection_glyph\":{\"id\":\"412324\"},\"view\":{\"id\":\"412326\"}},\"id\":\"412325\",\"type\":\"GlyphRenderer\"},{\"attributes\":{\"num_minor_ticks\":5,\"tickers\":[{\"id\":\"412337\"},{\"id\":\"412338\"},{\"id\":\"412339\"},{\"id\":\"412340\"},{\"id\":\"412341\"},{\"id\":\"412342\"},{\"id\":\"412343\"},{\"id\":\"412344\"},{\"id\":\"412345\"},{\"id\":\"412346\"},{\"id\":\"412347\"},{\"id\":\"412348\"}]},\"id\":\"412301\",\"type\":\"DatetimeTicker\"},{\"attributes\":{\"bottom_units\":\"screen\",\"fill_alpha\":0.5,\"fill_color\":\"lightgrey\",\"left_units\":\"screen\",\"level\":\"overlay\",\"line_alpha\":1.0,\"line_color\":\"black\",\"line_dash\":[4,4],\"line_width\":2,\"right_units\":\"screen\",\"syncable\":false,\"top_units\":\"screen\"},\"id\":\"412314\",\"type\":\"BoxAnnotation\"},{\"attributes\":{},\"id\":\"412296\",\"type\":\"LinearScale\"},{\"attributes\":{},\"id\":\"412308\",\"type\":\"PanTool\"},{\"attributes\":{\"data\":{\"x\":{\"__ndarray__\":\"AABwIB2ldkIAAKyHH6V2QgAA5NA0pXZCAACkpTaldkIAANI4OaV2QgAA3n1CpXZCAAAcGkqldkIAAPa0TaV2QgAAHk9PpXZCAACa4U+ldkIAADIcUKV2QgAA2CpQpXZCAAD6y1CldkIAAIQyUaV2QgAAHG1RpXZCAADWSFKldkIAAHxXUqV2QgAAYK9SpXZCAABS21KldkIAAOoVU6V2QgAAglBTpXZCAADUZlSldkIAAJwWVaV2QgAAcppVpXZCAAAeolaldkIAAE4XV6V2QgAAyqlXpXZCAAC81VeldkIAAPoeWKV2QgAARjxYpXZCAACSWVildkIAAISFWKV2QgAAHMBYpXZCAAAO7FildkIAALT6WKV2QgAAmFJZpXZCAADkb1mldkIAAG7WWaV2QgAABhFapXZCAACeS1qldkIAADaGWqV2QgAAKLJapXZCAABm+1qldkIAAP41W6V2QgAA7n9dpXZCAABOal6ldkIAADLCXqV2QgAARo9fpXZCAAAQdGWldkIAAIQrZ6V2QgAAfFBopXZCAAAuUWqldkIAAEIea6V2QgAAMmhtpXZCAABUeB2ldkIAAA5UHqV2QgAAyC8fpXZCAACCCyCldkIAADznIKV2QgAA9sIhpXZCAACwniKldkIAAGp6I6V2QgAAJFYkpXZCAADeMSWldkIAAJgNJqV2QgAAUukmpXZCAAAMxSeldkIAAMagKKV2QgAAgHwppXZCAAA6WCqldkIAAPQzK6V2QgAArg8spXZCAABo6yyldkIAACLHLaV2QgAA3KIupXZCAACWfi+ldkIAAFBaMKV2QgAACjYxpXZCAADEETKldkIAAH7tMqV2QgAAOMkzpXZCAACYszSldkIAAFKPNaV2QgAADGs2pXZCAADGRjeldkIAAIAiOKV2QgAA4Aw5pXZCAACa6DmldkIAAFTEOqV2QgAADqA7pXZCAADIezyldkIAAIJXPaV2QgAAPDM+pXZCAAD2Dj+ldkIAALDqP6V2QgAAasZApXZCAAAkokGldkIAAN59QqV2QgAAmFlDpXZCAABSNUSldkIAAAwRRaV2QgAAxuxFpXZCAACAyEaldkIAADqkR6V2QgAA9H9IpXZCAACuW0mldkIAAGg3SqV2QgAAUKZNpXZCAAAKgk6ldkIAAGaoU6V2QgAAxpJUpXZCAADaX1WldkIAAGjdWKV2QgAAIrlZpXZCAAA2hlqldkIAAJZwW6V2QgAAxANepXZCAAB+316ldkIAADi7X6V2QgAA8pZgpXZCAACscmGldkIAAGZOYqV2QgAAICpjpXZCAADaBWSldkIAADrwZKV2QgAA9MtlpXZCAACup2aldkIAAGiDZ6V2QgAAIl9opXZCAADcOmmldkIAAJYWaqV2QgAAquNqpXZCAABkv2uldkIAAMSpbKV2QgAAfoVtpXZCAAA4YW6ldkI=\",\"dtype\":\"float64\",\"order\":\"little\",\"shape\":[136]},\"y\":{\"__ndarray__\":\"AAAAAAAA+H8AAAAAAAD4fwAAAAAAAPh/AAAAAAAA+H8AAAAAAAD4fwAAAAAAAPh/IQRbcnyzYEDXcTYp6g5hQLkQcDm2FWJAJ+wmp5EsY0DeWQJe/4djQAAAAAAAAGRA27Zt27atY0Bu27Zt2/ZiQNu2bdu2jWJA27Zt27ZNYUAAAAAAAIBfQNu2bdu27VxAt23btm1bWkAAAAAAAIBZQLdt27Ztm1hASZIkSZLkWEAAAAAAAEBaQAAAAAAAAFtA27Zt27ZtW0AAAAAAAMBbQJIkSZIkCVxAt23btm3bXEC3bdu2bZtcQG7btm3b9ltAkiRJkiQJXEBu27Zt27ZcQEmSJEmSZF1AAAAAAABAXkAlSZIkSdJeQLdt27ZtW19AJUmSJEnSX0CSJEmSJAlgQAAAAAAAgF9At23btm0bX0C3bdu2bdteQCVJkiRJ0l5Abtu2bdv2XkC3bdu2bRtfQAAAAAAAgF5AAAAAAADAXkAAAAAAAIBeQNu2bdu27V1ASZIkSZLkXkBJkiRJkuReQG7btm3b9l5At23btm0bX0AlSZIkSVJeQEmSJEmSJF5AAAAAAAAA+H8AAAAAAAD4fwAAAAAAAPh/AAAAAAAA+H8AAAAAAAD4fwAAAAAAAPh/AAAAAAAA+H8AAAAAAAD4fwAAAAAAAPh/AAAAAAAA+H8AAAAAAAD4fwAAAAAAAPh/AAAAAAAA+H8AAAAAAAD4fwAAAAAAAPh/AAAAAAAA+H8AAAAAAAD4fwAAAAAAAPh/AAAAAAAA+H8AAAAAAAD4fwAAAAAAAPh/AAAAAAAA+H8AAAAAAAD4fwAAAAAAAPh/AAAAAAAA+H8AAAAAAAD4fwAAAAAAAPh/AAAAAAAA+H8AAAAAAAD4fwAAAAAAAPh/AAAAAAAA+H8AAAAAAAD4fwAAAAAAAPh/AAAAAAAA+H8AAAAAAAD4fwAAAAAAAPh/AAAAAAAA+H8AAAAAAAD4fwAAAAAAAPh/AAAAAAAA+H8AAAAAAAD4fwAAAAAAAPh/AAAAAAAA+H8AAAAAAAD4fwAAAAAAAPh/AAAAAAAA+H8AAAAAAAD4fwAAAAAAAPh/AAAAAAAA+H8AAAAAAAD4fwAAAAAAAPh/AAAAAAAA+H8AAAAAAAD4fwAAAAAAAPh/AAAAAAAA+H8AAAAAAAD4fwAAAAAAAPh/AAAAAAAA+H8AAAAAAAD4fwAAAAAAAPh/AAAAAAAA+H8AAAAAAAD4fwAAAAAAAPh/AAAAAAAA+H8AAAAAAAD4fwAAAAAAAPh/AAAAAAAA+H8AAAAAAAD4fwAAAAAAAPh/AAAAAAAA+H8AAAAAAAD4fwAAAAAAAPh/AAAAAAAA+H8AAAAAAAD4fwAAAAAAAPh/AAAAAAAA+H8AAAAAAAD4fwAAAAAAAPh/AAAAAAAA+H8AAAAAAAD4fwAAAAAAAPh/AAAAAAAA+H8=\",\"dtype\":\"float64\",\"order\":\"little\",\"shape\":[136]}},\"selected\":{\"id\":\"412366\"},\"selection_policy\":{\"id\":\"412367\"}},\"id\":\"412351\",\"type\":\"ColumnDataSource\"},{\"attributes\":{\"line_color\":\"red\",\"line_width\":2,\"x\":{\"field\":\"x\"},\"y\":{\"field\":\"y\"}},\"id\":\"412352\",\"type\":\"Line\"},{\"attributes\":{\"data\":{\"x\":{\"__ndarray__\":\"AABwIB2ldkIAAKyHH6V2QgAA5NA0pXZCAACkpTaldkIAANI4OaV2QgAA3n1CpXZCAAAcGkqldkIAAPa0TaV2QgAAHk9PpXZCAACa4U+ldkIAADIcUKV2QgAA2CpQpXZCAAD6y1CldkIAAIQyUaV2QgAAHG1RpXZCAADWSFKldkIAAHxXUqV2QgAAYK9SpXZCAABS21KldkIAAOoVU6V2QgAAglBTpXZCAADUZlSldkIAAJwWVaV2QgAAcppVpXZCAAAeolaldkIAAE4XV6V2QgAAyqlXpXZCAAC81VeldkIAAPoeWKV2QgAARjxYpXZCAACSWVildkIAAISFWKV2QgAAHMBYpXZCAAAO7FildkIAALT6WKV2QgAAmFJZpXZCAADkb1mldkIAAG7WWaV2QgAABhFapXZCAACeS1qldkIAADaGWqV2QgAAKLJapXZCAABm+1qldkIAAP41W6V2QgAA7n9dpXZCAABOal6ldkIAADLCXqV2QgAARo9fpXZCAAAQdGWldkIAAIQrZ6V2QgAAfFBopXZCAAAuUWqldkIAAEIea6V2QgAAMmhtpXZCAABUeB2ldkIAAA5UHqV2QgAAyC8fpXZCAACCCyCldkIAADznIKV2QgAA9sIhpXZCAACwniKldkIAAGp6I6V2QgAAJFYkpXZCAADeMSWldkIAAJgNJqV2QgAAUukmpXZCAAAMxSeldkIAAMagKKV2QgAAgHwppXZCAAA6WCqldkIAAPQzK6V2QgAArg8spXZCAABo6yyldkIAACLHLaV2QgAA3KIupXZCAACWfi+ldkIAAFBaMKV2QgAACjYxpXZCAADEETKldkIAAH7tMqV2QgAAOMkzpXZCAACYszSldkIAAFKPNaV2QgAADGs2pXZCAADGRjeldkIAAIAiOKV2QgAA4Aw5pXZCAACa6DmldkIAAFTEOqV2QgAADqA7pXZCAADIezyldkIAAIJXPaV2QgAAPDM+pXZCAAD2Dj+ldkIAALDqP6V2QgAAasZApXZCAAAkokGldkIAAN59QqV2QgAAmFlDpXZCAABSNUSldkIAAAwRRaV2QgAAxuxFpXZCAACAyEaldkIAADqkR6V2QgAA9H9IpXZCAACuW0mldkIAAGg3SqV2QgAAUKZNpXZCAAAKgk6ldkIAAGaoU6V2QgAAxpJUpXZCAADaX1WldkIAAGjdWKV2QgAAIrlZpXZCAAA2hlqldkIAAJZwW6V2QgAAxANepXZCAAB+316ldkIAADi7X6V2QgAA8pZgpXZCAACscmGldkIAAGZOYqV2QgAAICpjpXZCAADaBWSldkIAADrwZKV2QgAA9MtlpXZCAACup2aldkIAAGiDZ6V2QgAAIl9opXZCAADcOmmldkIAAJYWaqV2QgAAquNqpXZCAABkv2uldkIAAMSpbKV2QgAAfoVtpXZCAAA4YW6ldkI=\",\"dtype\":\"float64\",\"order\":\"little\",\"shape\":[136]},\"y\":{\"__ndarray__\":\"AAAAAABAW0CwT9kc1+BZQAAAAAAAwF5AAAAAAADAY0AMdRCS+/diQAAAAAAAYGFAAAAAAADgYkAAAAAAACBgQAAAAAAAIGRAAAAAAAAAZ0AAAAAAAEBmQAAAAAAAQGZAAAAAAABAXkAAAAAAAMBbQAAAAAAAgFpAAAAAAADAVkAAAAAAAEBYQAAAAAAAgFpAAAAAAACAWkAAAAAAAEBYQAAAAAAAgFVAAAAAAACAXEAAAAAAACBgQAAAAAAAgF1AAAAAAACAXUAAAAAAAMBcQAAAAAAAQFpAAAAAAABAW0AAAAAAAMBaQAAAAAAAwFtAAAAAAAAAXkAAAAAAACBhQAAAAAAAwGBAAAAAAAAgYEAAAAAAAEBfQAAAAAAAgF5AAAAAAAAAX0AAAAAAAMBfQAAAAAAAQF5AAAAAAADAXkAAAAAAAIBeQAAAAAAAAF9AAAAAAACAX0AAAAAAAABgQAAAAAAAgFtAAAAAAAAAYEAAAAAAAABdQAAAAAAAgFpAAAAAAADgYkAAAAAAAIBfQAAAAAAAQGBAAAAAAACAXEAAAAAAAIBaQAAAAAAAwFtAAAAAAAAA+H8AAAAAAAD4fwAAAAAAAPh/AAAAAAAA+H8AAAAAAAD4fwAAAAAAAPh/AAAAAAAA+H8AAAAAAAD4fwAAAAAAAPh/AAAAAAAA+H8AAAAAAAD4fwAAAAAAAPh/AAAAAAAA+H8AAAAAAAD4fwAAAAAAAPh/AAAAAAAA+H8AAAAAAAD4fwAAAAAAAPh/AAAAAAAA+H8AAAAAAAD4fwAAAAAAAPh/AAAAAAAA+H8AAAAAAAD4fwAAAAAAAPh/AAAAAAAA+H8AAAAAAAD4fwAAAAAAAPh/AAAAAAAA+H8AAAAAAAD4fwAAAAAAAPh/AAAAAAAA+H8AAAAAAAD4fwAAAAAAAPh/AAAAAAAA+H8AAAAAAAD4fwAAAAAAAPh/AAAAAAAA+H8AAAAAAAD4fwAAAAAAAPh/AAAAAAAA+H8AAAAAAAD4fwAAAAAAAPh/AAAAAAAA+H8AAAAAAAD4fwAAAAAAAPh/AAAAAAAA+H8AAAAAAAD4fwAAAAAAAPh/AAAAAAAA+H8AAAAAAAD4fwAAAAAAAPh/AAAAAAAA+H8AAAAAAAD4fwAAAAAAAPh/AAAAAAAA+H8AAAAAAAD4fwAAAAAAAPh/AAAAAAAA+H8AAAAAAAD4fwAAAAAAAPh/AAAAAAAA+H8AAAAAAAD4fwAAAAAAAPh/AAAAAAAA+H8AAAAAAAD4fwAAAAAAAPh/AAAAAAAA+H8AAAAAAAD4fwAAAAAAAPh/AAAAAAAA+H8AAAAAAAD4fwAAAAAAAPh/AAAAAAAA+H8AAAAAAAD4fwAAAAAAAPh/AAAAAAAA+H8AAAAAAAD4fwAAAAAAAPh/AAAAAAAA+H8AAAAAAAD4fwAAAAAAAPh/AAAAAAAA+H8=\",\"dtype\":\"float64\",\"order\":\"little\",\"shape\":[136]}},\"selected\":{\"id\":\"412335\"},\"selection_policy\":{\"id\":\"412336\"}},\"id\":\"412322\",\"type\":\"ColumnDataSource\"},{\"attributes\":{},\"id\":\"412333\",\"type\":\"AllLabels\"},{\"attributes\":{\"source\":{\"id\":\"412351\"}},\"id\":\"412355\",\"type\":\"CDSView\"},{\"attributes\":{\"axis_label\":\"Glucose(mmol/l)\",\"formatter\":{\"id\":\"412331\"},\"major_label_policy\":{\"id\":\"412333\"},\"ticker\":{\"id\":\"412305\"}},\"id\":\"412304\",\"type\":\"LinearAxis\"},{\"attributes\":{\"text\":\"Glucose distribution over time\"},\"id\":\"412290\",\"type\":\"Title\"},{\"attributes\":{\"label\":{\"value\":\"rolling average.\"},\"renderers\":[{\"id\":\"412354\"}]},\"id\":\"412380\",\"type\":\"LegendItem\"},{\"attributes\":{},\"id\":\"412311\",\"type\":\"SaveTool\"},{\"attributes\":{\"mantissas\":[1,2,5],\"max_interval\":500.0,\"num_minor_ticks\":0},\"id\":\"412337\",\"type\":\"AdaptiveTicker\"},{\"attributes\":{},\"id\":\"412366\",\"type\":\"Selection\"},{\"attributes\":{\"axis\":{\"id\":\"412304\"},\"dimension\":1,\"ticker\":null},\"id\":\"412307\",\"type\":\"Grid\"},{\"attributes\":{\"base\":60,\"mantissas\":[1,2,5,10,15,20,30],\"max_interval\":1800000.0,\"min_interval\":1000.0,\"num_minor_ticks\":0},\"id\":\"412338\",\"type\":\"AdaptiveTicker\"},{\"attributes\":{\"days\":[1,2,3,4,5,6,7,8,9,10,11,12,13,14,15,16,17,18,19,20,21,22,23,24,25,26,27,28,29,30,31]},\"id\":\"412340\",\"type\":\"DaysTicker\"},{\"attributes\":{},\"id\":\"412313\",\"type\":\"HelpTool\"},{\"attributes\":{},\"id\":\"412328\",\"type\":\"DatetimeTickFormatter\"},{\"attributes\":{\"line_alpha\":0.1,\"line_color\":\"red\",\"line_width\":2,\"x\":{\"field\":\"x\"},\"y\":{\"field\":\"y\"}},\"id\":\"412353\",\"type\":\"Line\"},{\"attributes\":{},\"id\":\"412305\",\"type\":\"BasicTicker\"},{\"attributes\":{\"base\":24,\"mantissas\":[1,2,4,6,8,12],\"max_interval\":43200000.0,\"min_interval\":3600000.0,\"num_minor_ticks\":0},\"id\":\"412339\",\"type\":\"AdaptiveTicker\"},{\"attributes\":{\"active_multi\":null,\"tools\":[{\"id\":\"412308\"},{\"id\":\"412309\"},{\"id\":\"412310\"},{\"id\":\"412311\"},{\"id\":\"412312\"},{\"id\":\"412313\"}]},\"id\":\"412315\",\"type\":\"Toolbar\"},{\"attributes\":{\"months\":[0,1,2,3,4,5,6,7,8,9,10,11]},\"id\":\"412344\",\"type\":\"MonthsTicker\"},{\"attributes\":{\"months\":[0,2,4,6,8,10]},\"id\":\"412345\",\"type\":\"MonthsTicker\"},{\"attributes\":{\"days\":[1,4,7,10,13,16,19,22,25,28]},\"id\":\"412341\",\"type\":\"DaysTicker\"},{\"attributes\":{},\"id\":\"412330\",\"type\":\"AllLabels\"},{\"attributes\":{\"days\":[1,15]},\"id\":\"412343\",\"type\":\"DaysTicker\"},{\"attributes\":{},\"id\":\"412298\",\"type\":\"LinearScale\"},{\"attributes\":{},\"id\":\"412331\",\"type\":\"BasicTickFormatter\"},{\"attributes\":{\"months\":[0,6]},\"id\":\"412347\",\"type\":\"MonthsTicker\"},{\"attributes\":{\"overlay\":{\"id\":\"412314\"}},\"id\":\"412310\",\"type\":\"BoxZoomTool\"},{\"attributes\":{\"days\":[1,8,15,22]},\"id\":\"412342\",\"type\":\"DaysTicker\"},{\"attributes\":{},\"id\":\"412294\",\"type\":\"DataRange1d\"},{\"attributes\":{},\"id\":\"412348\",\"type\":\"YearsTicker\"},{\"attributes\":{},\"id\":\"412312\",\"type\":\"ResetTool\"},{\"attributes\":{\"line_alpha\":0.1,\"line_color\":\"#1f77b4\",\"line_width\":2,\"x\":{\"field\":\"x\"},\"y\":{\"field\":\"y\"}},\"id\":\"412324\",\"type\":\"Line\"},{\"attributes\":{},\"id\":\"412367\",\"type\":\"UnionRenderers\"},{\"attributes\":{\"label\":{\"value\":\"Glucose.\"},\"renderers\":[{\"id\":\"412325\"}]},\"id\":\"412350\",\"type\":\"LegendItem\"},{\"attributes\":{\"months\":[0,4,8]},\"id\":\"412346\",\"type\":\"MonthsTicker\"},{\"attributes\":{\"line_color\":\"#1f77b4\",\"line_width\":2,\"x\":{\"field\":\"x\"},\"y\":{\"field\":\"y\"}},\"id\":\"412323\",\"type\":\"Line\"},{\"attributes\":{\"source\":{\"id\":\"412322\"}},\"id\":\"412326\",\"type\":\"CDSView\"}],\"root_ids\":[\"412289\"]},\"title\":\"Bokeh Application\",\"version\":\"2.3.2\"}};\n  var render_items = [{\"docid\":\"b9b6c299-4027-4f3e-ad18-4edc18d01869\",\"root_ids\":[\"412289\"],\"roots\":{\"412289\":\"4a87e433-21de-40f8-a028-8b7edcbd2392\"}}];\n  root.Bokeh.embed.embed_items_notebook(docs_json, render_items);\n\n  }\n  if (root.Bokeh !== undefined) {\n    embed_document(root);\n  } else {\n    var attempts = 0;\n    var timer = setInterval(function(root) {\n      if (root.Bokeh !== undefined) {\n        clearInterval(timer);\n        embed_document(root);\n      } else {\n        attempts++;\n        if (attempts > 100) {\n          clearInterval(timer);\n          console.log(\"Bokeh: ERROR: Unable to run BokehJS code because BokehJS library is missing\");\n        }\n      }\n    }, 10, root)\n  }\n})(window);",
      "application/vnd.bokehjs_exec.v0+json": ""
     },
     "metadata": {
      "application/vnd.bokehjs_exec.v0+json": {
       "id": "412289"
      }
     },
     "output_type": "display_data"
    }
   ],
   "source": [
    "# Trying diffrent methods of interpolation and assigning to the dataframe\n",
    "\n",
    "a_int = df.glucose.interpolate(method=\"polynomial\", order = 2)\n",
    "df[\"poly_int\"] = a_int\n",
    "\n",
    "b_int = df.glucose.interpolate(method=\"pad\", order = 2)\n",
    "df[\"padded_int\"] = b_int\n",
    "\n",
    "c_int = df.glucose.interpolate(method=\"quadratic\", order = 2)\n",
    "df[\"quad_int\"] = c_int\n",
    "\n",
    "d_int = df.glucose.interpolate(method=\"spline\", order = 2)\n",
    "df[\"spline_int\"] = d_int\n",
    "\n",
    "# Check result\n",
    "#print(df)\n",
    "\n",
    "# assigning the diffrent interpolations to a variable\n",
    "x = df.time\n",
    "y = df.glucose\n",
    "y2 = df.interpolation\n",
    "y3 = df.padded_int\n",
    "y4 = df.poly_int\n",
    "y5 = df.quad_int\n",
    "y6 = df.spline_int\n",
    "\n",
    "#Creating figures of the the diffrent interpolated variables over time\n",
    "\n",
    "p1 = figure(title=\"Glucose distribution over time\", x_axis_label='Time(H)', y_axis_label='Glucose(mmol/l)', x_axis_type='datetime')\n",
    "p1.line(x, y, legend_label=\"Glucose.\", line_width=2)\n",
    "p1.line()\n",
    "tab1 = Panel(child=p1, title=\"Glucose\")\n",
    "# show(p1)\n",
    "\n",
    "# # interpolated glucose\n",
    "p2 = figure(title=\"Linear interpolated glucose distribution over time\", x_axis_label='Time(H)', y_axis_label='Glucose(mmol/l)', x_axis_type='datetime')\n",
    "p2.line(x, y2, legend_label=\"Interpolated glucose.\", line_width=2)\n",
    "tab2 = Panel(child=p2, title=\"Linear interpolation\")\n",
    "# show(p2)\n",
    "\n",
    "p3 = figure(title=\"Padded interpolated glucose distribution over Time\", x_axis_label='Time(H)', y_axis_label='Glucose(mmol/l)', x_axis_type='datetime')\n",
    "p3.line(x, y3, legend_label=\"Interpolated glucose.\", line_width=2)\n",
    "tab3 = Panel(child=p3, title=\"padded interpolation\")\n",
    "# show(p3)\n",
    "\n",
    "p4 = figure(title=\"polynomial interpolated glucose distribution over time\", x_axis_label='Time(H)', y_axis_label='Glucose(mmol/l)', x_axis_type='datetime')\n",
    "p4.line(x, y4, legend_label=\"Interpolated glucose.\", line_width=2)\n",
    "tab4 = Panel(child=p4, title=\"polynomial interpolation\")\n",
    "# show(p4)\n",
    "\n",
    "p5 = figure(title=\"quadratic interpolated glucose distribution over time\", x_axis_label='Time(H)', y_axis_label='Glucose(mmol/l)', x_axis_type='datetime')\n",
    "p5.line(x, y5, legend_label=\"Interpolated glucose.\", line_width=2)\n",
    "tab5 = Panel(child=p5, title=\"quadratic interpolation\")\n",
    "# show(p5)\n",
    "\n",
    "p6 = figure(title=\"spline interpolated glucose distribution over time\", x_axis_label='Time(H)', y_axis_label='Glucose(mmol/l)', x_axis_type='datetime')\n",
    "p6.line(x, y6, legend_label=\"Interpolated glucose.\", line_width=2)\n",
    "tab6 = Panel(child=p6, title=\"spline interpolation\")\n",
    "\n",
    "# Showing plot with tabs selecting each possible interpolation.\n",
    " \n",
    "show(Tabs(tabs=[tab1, tab2, tab3, tab4, tab5, tab6]))\n",
    "\n",
    "print(\"Graphs show no major diffrence between interpolation mathods, but quadratic interpolating shows no weird line, so is the better method for visualization\")\n",
    "\n",
    "# adding a rolling meam to the linear interpolated glucose data\n",
    "\n",
    "#adding a rolling mean\n",
    "df[ 'rolling_avg' ] = df.quad_int.rolling( 7).mean()\n",
    "\n",
    "#setting data to variable\n",
    "x = df.time\n",
    "y = df.quad_int\n",
    "y2 = df.rolling_avg\n",
    "\n",
    "# plotting interpolated glucose with rolling mean\n",
    "p1 = figure(title=\"Glucose distribution over time\", x_axis_label='Time', y_axis_label='Glucose(mmol/l)', x_axis_type='datetime')\n",
    "p1.line(x, y, legend_label=\"Glucose.\", line_width=2)\n",
    "p1.line(x, y2, legend_label=\"rolling average.\", line_width=2, color = \"red\")\n",
    "show(p1)\n"
   ]
  },
  {
   "cell_type": "code",
   "execution_count": null,
   "metadata": {},
   "outputs": [],
   "source": []
  }
 ],
 "metadata": {
  "kernelspec": {
   "display_name": "Python 3",
   "language": "python",
   "name": "python3"
  },
  "language_info": {
   "codemirror_mode": {
    "name": "ipython",
    "version": 3
   },
   "file_extension": ".py",
   "mimetype": "text/x-python",
   "name": "python",
   "nbconvert_exporter": "python",
   "pygments_lexer": "ipython3",
   "version": "3.8.8"
  }
 },
 "nbformat": 4,
 "nbformat_minor": 4
}
